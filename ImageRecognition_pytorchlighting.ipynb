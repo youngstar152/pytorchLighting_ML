{
 "cells": [
  {
   "cell_type": "code",
   "execution_count": 1,
   "metadata": {},
   "outputs": [
    {
     "name": "stdout",
     "output_type": "stream",
     "text": [
      "Requirement already satisfied: pytorch-lightning==0.7.6 in /usr/local/lib/python3.8/dist-packages (0.7.6)\n",
      "Requirement already satisfied: tqdm>=4.41.0 in /usr/local/lib/python3.8/dist-packages (from pytorch-lightning==0.7.6) (4.64.0)\n",
      "Requirement already satisfied: tensorboard>=1.14 in /usr/local/lib/python3.8/dist-packages (from pytorch-lightning==0.7.6) (1.14.0)\n",
      "Requirement already satisfied: future>=0.17.1 in /usr/local/lib/python3.8/dist-packages (from pytorch-lightning==0.7.6) (0.18.2)\n",
      "Requirement already satisfied: torch>=1.1 in /usr/local/lib/python3.8/dist-packages (from pytorch-lightning==0.7.6) (1.12.0)\n",
      "Requirement already satisfied: numpy>=1.16.4 in /usr/local/lib/python3.8/dist-packages (from pytorch-lightning==0.7.6) (1.22.4)\n",
      "Requirement already satisfied: pyyaml>=3.13 in /usr/local/lib/python3.8/dist-packages (from pytorch-lightning==0.7.6) (6.0)\n",
      "Requirement already satisfied: grpcio>=1.6.3 in /usr/local/lib/python3.8/dist-packages (from tensorboard>=1.14->pytorch-lightning==0.7.6) (1.46.3)\n",
      "Requirement already satisfied: setuptools>=41.0.0 in /usr/local/lib/python3.8/dist-packages (from tensorboard>=1.14->pytorch-lightning==0.7.6) (62.3.2)\n",
      "Requirement already satisfied: absl-py>=0.4 in /usr/local/lib/python3.8/dist-packages (from tensorboard>=1.14->pytorch-lightning==0.7.6) (1.0.0)\n",
      "Requirement already satisfied: six>=1.10.0 in /usr/local/lib/python3.8/dist-packages (from tensorboard>=1.14->pytorch-lightning==0.7.6) (1.16.0)\n",
      "Requirement already satisfied: protobuf>=3.6.0 in /usr/local/lib/python3.8/dist-packages (from tensorboard>=1.14->pytorch-lightning==0.7.6) (3.19.4)\n",
      "Requirement already satisfied: markdown>=2.6.8 in /usr/local/lib/python3.8/dist-packages (from tensorboard>=1.14->pytorch-lightning==0.7.6) (3.3.7)\n",
      "Requirement already satisfied: werkzeug>=0.11.15 in /usr/local/lib/python3.8/dist-packages (from tensorboard>=1.14->pytorch-lightning==0.7.6) (2.1.2)\n",
      "Requirement already satisfied: wheel>=0.26; python_version >= \"3\" in /usr/lib/python3/dist-packages (from tensorboard>=1.14->pytorch-lightning==0.7.6) (0.34.2)\n",
      "Requirement already satisfied: typing-extensions in /usr/local/lib/python3.8/dist-packages (from torch>=1.1->pytorch-lightning==0.7.6) (4.2.0)\n",
      "Requirement already satisfied: importlib-metadata>=4.4; python_version < \"3.10\" in /usr/local/lib/python3.8/dist-packages (from markdown>=2.6.8->tensorboard>=1.14->pytorch-lightning==0.7.6) (4.11.4)\n",
      "Requirement already satisfied: zipp>=0.5 in /usr/local/lib/python3.8/dist-packages (from importlib-metadata>=4.4; python_version < \"3.10\"->markdown>=2.6.8->tensorboard>=1.14->pytorch-lightning==0.7.6) (3.8.0)\n",
      "\u001b[33mWARNING: You are using pip version 20.2.4; however, version 22.2.2 is available.\n",
      "You should consider upgrading via the '/usr/bin/python3 -m pip install --upgrade pip' command.\u001b[0m\n"
     ]
    }
   ],
   "source": [
    "!pip install pytorch-lightning==0.7.6"
   ]
  },
  {
   "cell_type": "code",
   "execution_count": 2,
   "metadata": {},
   "outputs": [
    {
     "name": "stdout",
     "output_type": "stream",
     "text": [
      "Requirement already satisfied: torchvision in /usr/local/lib/python3.8/dist-packages (0.13.0)\n",
      "Requirement already satisfied: numpy in /usr/local/lib/python3.8/dist-packages (from torchvision) (1.22.4)\n",
      "Requirement already satisfied: pillow!=8.3.*,>=5.3.0 in /usr/local/lib/python3.8/dist-packages (from torchvision) (9.1.1)\n",
      "Requirement already satisfied: requests in /usr/local/lib/python3.8/dist-packages (from torchvision) (2.27.1)\n",
      "Requirement already satisfied: torch==1.12.0 in /usr/local/lib/python3.8/dist-packages (from torchvision) (1.12.0)\n",
      "Requirement already satisfied: typing-extensions in /usr/local/lib/python3.8/dist-packages (from torchvision) (4.2.0)\n",
      "Requirement already satisfied: urllib3<1.27,>=1.21.1 in /usr/local/lib/python3.8/dist-packages (from requests->torchvision) (1.26.9)\n",
      "Requirement already satisfied: idna<4,>=2.5; python_version >= \"3\" in /usr/local/lib/python3.8/dist-packages (from requests->torchvision) (3.3)\n",
      "Requirement already satisfied: certifi>=2017.4.17 in /usr/local/lib/python3.8/dist-packages (from requests->torchvision) (2022.5.18.1)\n",
      "Requirement already satisfied: charset-normalizer~=2.0.0; python_version >= \"3\" in /usr/local/lib/python3.8/dist-packages (from requests->torchvision) (2.0.12)\n",
      "\u001b[33mWARNING: You are using pip version 20.2.4; however, version 22.2.2 is available.\n",
      "You should consider upgrading via the '/usr/bin/python3 -m pip install --upgrade pip' command.\u001b[0m\n"
     ]
    }
   ],
   "source": [
    "!pip install torchvision"
   ]
  },
  {
   "cell_type": "code",
   "execution_count": 69,
   "metadata": {},
   "outputs": [],
   "source": [
    "import os\n",
    "import numpy as np\n",
    "from PIL import Image\n",
    "from torchvision import transforms, datasets\n",
    "import torch.utils.data\n",
    "import torch.nn as nn\n",
    "import torch.nn.functional as F\n",
    "import pytorch_lightning as pl\n",
    "from pytorch_lightning import Trainer\n",
    "from torchvision import models\n",
    "import matplotlib.pyplot as plt"
   ]
  },
  {
   "cell_type": "code",
   "execution_count": 70,
   "metadata": {},
   "outputs": [],
   "source": [
    "# 前処理\n",
    "transform = transforms.Compose([\n",
    "        transforms.Resize((256,256)),#画像の大きさを変更\n",
    "        #transforms.CenterCrop(224),\n",
    "        transforms.ToTensor(),#Tensor型に変換\n",
    "        transforms.Normalize([0.485, 0.456, 0.406], [0.229, 0.224, 0.225])#色情報の標準化\n",
    "])"
   ]
  },
  {
   "cell_type": "code",
   "execution_count": 71,
   "metadata": {},
   "outputs": [
    {
     "name": "stdout",
     "output_type": "stream",
     "text": [
      "torch.Size([3, 256, 256])\n",
      "34418\n",
      "24092\n",
      "3443\n"
     ]
    }
   ],
   "source": [
    "datafolder = \"Linkdata/datasetkato/MLdataset\"\n",
    "dataset = datasets.ImageFolder(datafolder, transform) #前処理の実行\n",
    "print(dataset[0][0].shape)\n",
    "#display(dataset[0])\n",
    "print(len(dataset))\n",
    "# 学習 : 検証 : テスト = 70% : 20% : 10%\n",
    "n_train = int(len(dataset) * 0.7)\n",
    "n_val = int(len(dataset) * 0.2)\n",
    "n_test = len(dataset) - n_train - n_val\n",
    "\n",
    "# ランダムに分割を行うため、シードを固定して再現性を確保\n",
    "torch.manual_seed(0)\n",
    "train, val, test = torch.utils.data.random_split(dataset, [n_train, n_val, n_test])\n",
    "print(len(train))\n",
    "print(len(test))"
   ]
  },
  {
   "cell_type": "code",
   "execution_count": 72,
   "metadata": {},
   "outputs": [
    {
     "data": {
      "text/plain": [
       "<torch._C.Generator at 0x7f53c15ba870>"
      ]
     },
     "execution_count": 72,
     "metadata": {},
     "output_type": "execute_result"
    }
   ],
   "source": [
    "global opt,fag,loss\n",
    "train_loss={}\n",
    "train_acc={}\n",
    "val_loss={}\n",
    "val_acc={}\n",
    "\n",
    "class TrainNet(pl.LightningModule):\n",
    "    @pl.data_loader\n",
    "    def train_dataloader(self):\n",
    "        #データセットを使ってバッチサイズ分のデータを生成する。またデータのシャッフル機能も持つ。\n",
    "        return torch.utils.data.DataLoader(train, self.batch_size, shuffle=True, num_workers=self.num_workers, pin_memory=True)\n",
    "\n",
    "    #学習データに対する処理\n",
    "    def training_step(self, batch, batch_nb):\n",
    "        x, t = batch\n",
    "        y = self.forward(x)\n",
    "        loss = self.lossfun(y, t)\n",
    "        y_label = torch.argmax(y, dim=1)\n",
    "        acc = torch.sum(t == y_label) * 1.0 / len(t)\n",
    "#        if self.current_epoch%5==0:\n",
    "              # 学習途中の状態を保存する。\n",
    "#                 torch.save(\n",
    "#                     {\n",
    "#                         \"epoch\": self.current_epoch,\n",
    "#                         \"model_state_dict\": net.state_dict(),\n",
    "#                         \"optimizer_state_dict\": opt.state_dict(),\n",
    "#                       \"losslogger\": loss,\n",
    "#                     },\n",
    "#                   \"Linkdata/datasetkato/model.tar_{}\".format(self.current_epoch+1),\n",
    "\n",
    "#                 )\n",
    "                \n",
    "        # グラフ用\n",
    "        tensorboard_logs = {'train/train_loss': loss, 'train/train_acc': acc} # tensorboard\n",
    "        results = {'loss': loss, 'log': tensorboard_logs}\n",
    "        train_loss[self.current_epoch]=loss.item()\n",
    "        train_acc[self.current_epoch]=acc.item()\n",
    "        \n",
    "        return results\n",
    "\n",
    "class ValidationNet(pl.LightningModule):\n",
    "    @pl.data_loader\n",
    "    def val_dataloader(self):\n",
    "        return torch.utils.data.DataLoader(val, self.batch_size, num_workers=self.num_workers, pin_memory=True)\n",
    "\n",
    "    def validation_step(self, batch, batch_nb):\n",
    "        x, t = batch\n",
    "        y = self.forward(x)\n",
    "        loss = self.lossfun(y, t)\n",
    "        y_label = torch.argmax(y, dim=1)\n",
    "        acc = torch.sum(t == y_label) * 1.0 / len(t)\n",
    "        results = {'val_loss': loss, 'val_acc': acc}\n",
    "        \n",
    "        return results\n",
    "\n",
    "    def validation_epoch_end(self, outputs):\n",
    "        avg_loss = torch.stack([x['val_loss'] for x in outputs]).mean()\n",
    "        avg_acc = torch.stack([x['val_acc'] for x in outputs]).mean()\n",
    "        \n",
    "        # 学習途中の状態を保存する。\n",
    "        if self.current_epoch%5==0:\n",
    "            \n",
    "            torch.save(\n",
    "                {\n",
    "                    \"epoch\": self.current_epoch,\n",
    "                    \"model_state_dict\": net.state_dict(),\n",
    "                    \"optimizer_state_dict\": opt.state_dict(),\n",
    "                  \"losslogger\": avg_loss,\n",
    "                },\n",
    "              \"Linkdata/datasetkato/model.tar_{}\".format(self.current_epoch+1),\n",
    "\n",
    "            )\n",
    "            \n",
    "         # グラフ用       \n",
    "        tensorboard_logs = {'val/avg_loss': avg_loss, 'val/avg_acc': avg_acc}\n",
    "        results = {'val_loss': avg_loss, 'val_acc': avg_acc, 'log': tensorboard_logs}\n",
    "        val_loss[self.current_epoch]=avg_loss.item()\n",
    "        val_acc[self.current_epoch]=avg_acc.item()\n",
    "        return results\n",
    "\n",
    "class TestNet(pl.LightningModule):\n",
    "    @pl.data_loader\n",
    "    def test_dataloader(self):\n",
    "        return torch.utils.data.DataLoader(test, self.batch_size, num_workers=self.num_workers, pin_memory=True)\n",
    "\n",
    "    def test_step(self, batch, batch_nb):\n",
    "        x, t = batch\n",
    "        y = self.forward(x)\n",
    "        loss = self.lossfun(y, t)\n",
    "        y_label = torch.argmax(y, dim=1)\n",
    "        acc = torch.sum(t == y_label) * 1.0 / len(t)\n",
    "        results = {'test_loss': loss, 'test_acc': acc}\n",
    "        return results\n",
    "\n",
    "    def test_epoch_end(self, outputs):\n",
    "        avg_loss = torch.stack([x['test_loss'] for x in outputs]).mean()\n",
    "        avg_acc = torch.stack([x['test_acc'] for x in outputs]).mean()\n",
    "        results = {'test_loss': avg_loss, 'test_acc': avg_acc}\n",
    "        return results\n",
    "\n",
    "class Net(TrainNet, ValidationNet, TestNet):\n",
    "\n",
    "    def __init__(self, batch_size=2, num_workers=os.cpu_count(), pin_memory=True):\n",
    "        super(Net, self).__init__()\n",
    "        self.batch_size = batch_size\n",
    "        self.num_workers = num_workers\n",
    "\n",
    "        # 使用する層の宣言\n",
    "        # 学習済みモデルを利用\n",
    "        self.conv = models.mobilenet_v3_large(pretrained=True)\n",
    "        \n",
    "        # 学習済みのパラメータを固定\n",
    "        for param in self.conv.parameters():\n",
    "            # 学習済みのパラメータを固定\n",
    "            #print(param)\n",
    "            param.requires_grad = False\n",
    "            # 学習済みのパラメータを固定しない\n",
    "            #param.requires_grad = True\n",
    "            \n",
    "        #転移学習用のモデルに変更\n",
    "        self.conv.classifier= torch.nn.Sequential(\n",
    "          torch.nn.Linear(in_features=960, out_features=1280, bias=True),\n",
    "          torch.nn.Hardswish(),\n",
    "          torch.nn.Dropout(p=0.2, inplace=True),\n",
    "          torch.nn.Linear(in_features=1280, out_features=30, bias=True))\n",
    "        \n",
    "        #デフォルトでTrueなので以下4行は実は不要\n",
    "        self.conv.classifier[0].weight.requires_grad = True\n",
    "        self.conv.classifier[3].weight.requires_grad = True\n",
    "        self.conv.classifier[0].bias.requires_grad = True\n",
    "        self.conv.classifier[3].bias.requires_grad = True\n",
    "        \n",
    "    #目的関数の設定\n",
    "    def lossfun(self, y, t):\n",
    "        return F.cross_entropy(y, t)\n",
    "    #optimizerの設定\n",
    "    def configure_optimizers(self):\n",
    "        global opt\n",
    "        opt=torch.optim.RMSprop(self.parameters(), lr=5e-3, weight_decay=5e-3)\n",
    "        return opt\n",
    "    #順伝播\n",
    "    def forward(self, x):\n",
    "        x = self.conv(x)\n",
    "        return x\n",
    "    \n",
    "# 乱数のシードを固定\n",
    "torch.manual_seed(0)\n",
    "\n",
    "# 使用していない GPU のメモリを解放\n",
    "#torch.cuda.empty_cache()"
   ]
  },
  {
   "cell_type": "code",
   "execution_count": 73,
   "metadata": {
    "scrolled": true
   },
   "outputs": [
    {
     "name": "stdout",
     "output_type": "stream",
     "text": [
      "Net(\n",
      "  (conv): MobileNetV3(\n",
      "    (features): Sequential(\n",
      "      (0): Conv2dNormActivation(\n",
      "        (0): Conv2d(3, 16, kernel_size=(3, 3), stride=(2, 2), padding=(1, 1), bias=False)\n",
      "        (1): BatchNorm2d(16, eps=0.001, momentum=0.01, affine=True, track_running_stats=True)\n",
      "        (2): Hardswish()\n",
      "      )\n",
      "      (1): InvertedResidual(\n",
      "        (block): Sequential(\n",
      "          (0): Conv2dNormActivation(\n",
      "            (0): Conv2d(16, 16, kernel_size=(3, 3), stride=(1, 1), padding=(1, 1), groups=16, bias=False)\n",
      "            (1): BatchNorm2d(16, eps=0.001, momentum=0.01, affine=True, track_running_stats=True)\n",
      "            (2): ReLU(inplace=True)\n",
      "          )\n",
      "          (1): Conv2dNormActivation(\n",
      "            (0): Conv2d(16, 16, kernel_size=(1, 1), stride=(1, 1), bias=False)\n",
      "            (1): BatchNorm2d(16, eps=0.001, momentum=0.01, affine=True, track_running_stats=True)\n",
      "          )\n",
      "        )\n",
      "      )\n",
      "      (2): InvertedResidual(\n",
      "        (block): Sequential(\n",
      "          (0): Conv2dNormActivation(\n",
      "            (0): Conv2d(16, 64, kernel_size=(1, 1), stride=(1, 1), bias=False)\n",
      "            (1): BatchNorm2d(64, eps=0.001, momentum=0.01, affine=True, track_running_stats=True)\n",
      "            (2): ReLU(inplace=True)\n",
      "          )\n",
      "          (1): Conv2dNormActivation(\n",
      "            (0): Conv2d(64, 64, kernel_size=(3, 3), stride=(2, 2), padding=(1, 1), groups=64, bias=False)\n",
      "            (1): BatchNorm2d(64, eps=0.001, momentum=0.01, affine=True, track_running_stats=True)\n",
      "            (2): ReLU(inplace=True)\n",
      "          )\n",
      "          (2): Conv2dNormActivation(\n",
      "            (0): Conv2d(64, 24, kernel_size=(1, 1), stride=(1, 1), bias=False)\n",
      "            (1): BatchNorm2d(24, eps=0.001, momentum=0.01, affine=True, track_running_stats=True)\n",
      "          )\n",
      "        )\n",
      "      )\n",
      "      (3): InvertedResidual(\n",
      "        (block): Sequential(\n",
      "          (0): Conv2dNormActivation(\n",
      "            (0): Conv2d(24, 72, kernel_size=(1, 1), stride=(1, 1), bias=False)\n",
      "            (1): BatchNorm2d(72, eps=0.001, momentum=0.01, affine=True, track_running_stats=True)\n",
      "            (2): ReLU(inplace=True)\n",
      "          )\n",
      "          (1): Conv2dNormActivation(\n",
      "            (0): Conv2d(72, 72, kernel_size=(3, 3), stride=(1, 1), padding=(1, 1), groups=72, bias=False)\n",
      "            (1): BatchNorm2d(72, eps=0.001, momentum=0.01, affine=True, track_running_stats=True)\n",
      "            (2): ReLU(inplace=True)\n",
      "          )\n",
      "          (2): Conv2dNormActivation(\n",
      "            (0): Conv2d(72, 24, kernel_size=(1, 1), stride=(1, 1), bias=False)\n",
      "            (1): BatchNorm2d(24, eps=0.001, momentum=0.01, affine=True, track_running_stats=True)\n",
      "          )\n",
      "        )\n",
      "      )\n",
      "      (4): InvertedResidual(\n",
      "        (block): Sequential(\n",
      "          (0): Conv2dNormActivation(\n",
      "            (0): Conv2d(24, 72, kernel_size=(1, 1), stride=(1, 1), bias=False)\n",
      "            (1): BatchNorm2d(72, eps=0.001, momentum=0.01, affine=True, track_running_stats=True)\n",
      "            (2): ReLU(inplace=True)\n",
      "          )\n",
      "          (1): Conv2dNormActivation(\n",
      "            (0): Conv2d(72, 72, kernel_size=(5, 5), stride=(2, 2), padding=(2, 2), groups=72, bias=False)\n",
      "            (1): BatchNorm2d(72, eps=0.001, momentum=0.01, affine=True, track_running_stats=True)\n",
      "            (2): ReLU(inplace=True)\n",
      "          )\n",
      "          (2): SqueezeExcitation(\n",
      "            (avgpool): AdaptiveAvgPool2d(output_size=1)\n",
      "            (fc1): Conv2d(72, 24, kernel_size=(1, 1), stride=(1, 1))\n",
      "            (fc2): Conv2d(24, 72, kernel_size=(1, 1), stride=(1, 1))\n",
      "            (activation): ReLU()\n",
      "            (scale_activation): Hardsigmoid()\n",
      "          )\n",
      "          (3): Conv2dNormActivation(\n",
      "            (0): Conv2d(72, 40, kernel_size=(1, 1), stride=(1, 1), bias=False)\n",
      "            (1): BatchNorm2d(40, eps=0.001, momentum=0.01, affine=True, track_running_stats=True)\n",
      "          )\n",
      "        )\n",
      "      )\n",
      "      (5): InvertedResidual(\n",
      "        (block): Sequential(\n",
      "          (0): Conv2dNormActivation(\n",
      "            (0): Conv2d(40, 120, kernel_size=(1, 1), stride=(1, 1), bias=False)\n",
      "            (1): BatchNorm2d(120, eps=0.001, momentum=0.01, affine=True, track_running_stats=True)\n",
      "            (2): ReLU(inplace=True)\n",
      "          )\n",
      "          (1): Conv2dNormActivation(\n",
      "            (0): Conv2d(120, 120, kernel_size=(5, 5), stride=(1, 1), padding=(2, 2), groups=120, bias=False)\n",
      "            (1): BatchNorm2d(120, eps=0.001, momentum=0.01, affine=True, track_running_stats=True)\n",
      "            (2): ReLU(inplace=True)\n",
      "          )\n",
      "          (2): SqueezeExcitation(\n",
      "            (avgpool): AdaptiveAvgPool2d(output_size=1)\n",
      "            (fc1): Conv2d(120, 32, kernel_size=(1, 1), stride=(1, 1))\n",
      "            (fc2): Conv2d(32, 120, kernel_size=(1, 1), stride=(1, 1))\n",
      "            (activation): ReLU()\n",
      "            (scale_activation): Hardsigmoid()\n",
      "          )\n",
      "          (3): Conv2dNormActivation(\n",
      "            (0): Conv2d(120, 40, kernel_size=(1, 1), stride=(1, 1), bias=False)\n",
      "            (1): BatchNorm2d(40, eps=0.001, momentum=0.01, affine=True, track_running_stats=True)\n",
      "          )\n",
      "        )\n",
      "      )\n",
      "      (6): InvertedResidual(\n",
      "        (block): Sequential(\n",
      "          (0): Conv2dNormActivation(\n",
      "            (0): Conv2d(40, 120, kernel_size=(1, 1), stride=(1, 1), bias=False)\n",
      "            (1): BatchNorm2d(120, eps=0.001, momentum=0.01, affine=True, track_running_stats=True)\n",
      "            (2): ReLU(inplace=True)\n",
      "          )\n",
      "          (1): Conv2dNormActivation(\n",
      "            (0): Conv2d(120, 120, kernel_size=(5, 5), stride=(1, 1), padding=(2, 2), groups=120, bias=False)\n",
      "            (1): BatchNorm2d(120, eps=0.001, momentum=0.01, affine=True, track_running_stats=True)\n",
      "            (2): ReLU(inplace=True)\n",
      "          )\n",
      "          (2): SqueezeExcitation(\n",
      "            (avgpool): AdaptiveAvgPool2d(output_size=1)\n",
      "            (fc1): Conv2d(120, 32, kernel_size=(1, 1), stride=(1, 1))\n",
      "            (fc2): Conv2d(32, 120, kernel_size=(1, 1), stride=(1, 1))\n",
      "            (activation): ReLU()\n",
      "            (scale_activation): Hardsigmoid()\n",
      "          )\n",
      "          (3): Conv2dNormActivation(\n",
      "            (0): Conv2d(120, 40, kernel_size=(1, 1), stride=(1, 1), bias=False)\n",
      "            (1): BatchNorm2d(40, eps=0.001, momentum=0.01, affine=True, track_running_stats=True)\n",
      "          )\n",
      "        )\n",
      "      )\n",
      "      (7): InvertedResidual(\n",
      "        (block): Sequential(\n",
      "          (0): Conv2dNormActivation(\n",
      "            (0): Conv2d(40, 240, kernel_size=(1, 1), stride=(1, 1), bias=False)\n",
      "            (1): BatchNorm2d(240, eps=0.001, momentum=0.01, affine=True, track_running_stats=True)\n",
      "            (2): Hardswish()\n",
      "          )\n",
      "          (1): Conv2dNormActivation(\n",
      "            (0): Conv2d(240, 240, kernel_size=(3, 3), stride=(2, 2), padding=(1, 1), groups=240, bias=False)\n",
      "            (1): BatchNorm2d(240, eps=0.001, momentum=0.01, affine=True, track_running_stats=True)\n",
      "            (2): Hardswish()\n",
      "          )\n",
      "          (2): Conv2dNormActivation(\n",
      "            (0): Conv2d(240, 80, kernel_size=(1, 1), stride=(1, 1), bias=False)\n",
      "            (1): BatchNorm2d(80, eps=0.001, momentum=0.01, affine=True, track_running_stats=True)\n",
      "          )\n",
      "        )\n",
      "      )\n",
      "      (8): InvertedResidual(\n",
      "        (block): Sequential(\n",
      "          (0): Conv2dNormActivation(\n",
      "            (0): Conv2d(80, 200, kernel_size=(1, 1), stride=(1, 1), bias=False)\n",
      "            (1): BatchNorm2d(200, eps=0.001, momentum=0.01, affine=True, track_running_stats=True)\n",
      "            (2): Hardswish()\n",
      "          )\n",
      "          (1): Conv2dNormActivation(\n",
      "            (0): Conv2d(200, 200, kernel_size=(3, 3), stride=(1, 1), padding=(1, 1), groups=200, bias=False)\n",
      "            (1): BatchNorm2d(200, eps=0.001, momentum=0.01, affine=True, track_running_stats=True)\n",
      "            (2): Hardswish()\n",
      "          )\n",
      "          (2): Conv2dNormActivation(\n",
      "            (0): Conv2d(200, 80, kernel_size=(1, 1), stride=(1, 1), bias=False)\n",
      "            (1): BatchNorm2d(80, eps=0.001, momentum=0.01, affine=True, track_running_stats=True)\n",
      "          )\n",
      "        )\n",
      "      )\n",
      "      (9): InvertedResidual(\n",
      "        (block): Sequential(\n",
      "          (0): Conv2dNormActivation(\n",
      "            (0): Conv2d(80, 184, kernel_size=(1, 1), stride=(1, 1), bias=False)\n",
      "            (1): BatchNorm2d(184, eps=0.001, momentum=0.01, affine=True, track_running_stats=True)\n",
      "            (2): Hardswish()\n",
      "          )\n",
      "          (1): Conv2dNormActivation(\n",
      "            (0): Conv2d(184, 184, kernel_size=(3, 3), stride=(1, 1), padding=(1, 1), groups=184, bias=False)\n",
      "            (1): BatchNorm2d(184, eps=0.001, momentum=0.01, affine=True, track_running_stats=True)\n",
      "            (2): Hardswish()\n",
      "          )\n",
      "          (2): Conv2dNormActivation(\n",
      "            (0): Conv2d(184, 80, kernel_size=(1, 1), stride=(1, 1), bias=False)\n",
      "            (1): BatchNorm2d(80, eps=0.001, momentum=0.01, affine=True, track_running_stats=True)\n",
      "          )\n",
      "        )\n",
      "      )\n",
      "      (10): InvertedResidual(\n",
      "        (block): Sequential(\n",
      "          (0): Conv2dNormActivation(\n",
      "            (0): Conv2d(80, 184, kernel_size=(1, 1), stride=(1, 1), bias=False)\n",
      "            (1): BatchNorm2d(184, eps=0.001, momentum=0.01, affine=True, track_running_stats=True)\n",
      "            (2): Hardswish()\n",
      "          )\n",
      "          (1): Conv2dNormActivation(\n",
      "            (0): Conv2d(184, 184, kernel_size=(3, 3), stride=(1, 1), padding=(1, 1), groups=184, bias=False)\n",
      "            (1): BatchNorm2d(184, eps=0.001, momentum=0.01, affine=True, track_running_stats=True)\n",
      "            (2): Hardswish()\n",
      "          )\n",
      "          (2): Conv2dNormActivation(\n",
      "            (0): Conv2d(184, 80, kernel_size=(1, 1), stride=(1, 1), bias=False)\n",
      "            (1): BatchNorm2d(80, eps=0.001, momentum=0.01, affine=True, track_running_stats=True)\n",
      "          )\n",
      "        )\n",
      "      )\n",
      "      (11): InvertedResidual(\n",
      "        (block): Sequential(\n",
      "          (0): Conv2dNormActivation(\n",
      "            (0): Conv2d(80, 480, kernel_size=(1, 1), stride=(1, 1), bias=False)\n",
      "            (1): BatchNorm2d(480, eps=0.001, momentum=0.01, affine=True, track_running_stats=True)\n",
      "            (2): Hardswish()\n",
      "          )\n",
      "          (1): Conv2dNormActivation(\n",
      "            (0): Conv2d(480, 480, kernel_size=(3, 3), stride=(1, 1), padding=(1, 1), groups=480, bias=False)\n",
      "            (1): BatchNorm2d(480, eps=0.001, momentum=0.01, affine=True, track_running_stats=True)\n",
      "            (2): Hardswish()\n",
      "          )\n",
      "          (2): SqueezeExcitation(\n",
      "            (avgpool): AdaptiveAvgPool2d(output_size=1)\n",
      "            (fc1): Conv2d(480, 120, kernel_size=(1, 1), stride=(1, 1))\n",
      "            (fc2): Conv2d(120, 480, kernel_size=(1, 1), stride=(1, 1))\n",
      "            (activation): ReLU()\n",
      "            (scale_activation): Hardsigmoid()\n",
      "          )\n",
      "          (3): Conv2dNormActivation(\n",
      "            (0): Conv2d(480, 112, kernel_size=(1, 1), stride=(1, 1), bias=False)\n",
      "            (1): BatchNorm2d(112, eps=0.001, momentum=0.01, affine=True, track_running_stats=True)\n",
      "          )\n",
      "        )\n",
      "      )\n",
      "      (12): InvertedResidual(\n",
      "        (block): Sequential(\n",
      "          (0): Conv2dNormActivation(\n",
      "            (0): Conv2d(112, 672, kernel_size=(1, 1), stride=(1, 1), bias=False)\n",
      "            (1): BatchNorm2d(672, eps=0.001, momentum=0.01, affine=True, track_running_stats=True)\n",
      "            (2): Hardswish()\n",
      "          )\n",
      "          (1): Conv2dNormActivation(\n",
      "            (0): Conv2d(672, 672, kernel_size=(3, 3), stride=(1, 1), padding=(1, 1), groups=672, bias=False)\n",
      "            (1): BatchNorm2d(672, eps=0.001, momentum=0.01, affine=True, track_running_stats=True)\n",
      "            (2): Hardswish()\n",
      "          )\n",
      "          (2): SqueezeExcitation(\n",
      "            (avgpool): AdaptiveAvgPool2d(output_size=1)\n",
      "            (fc1): Conv2d(672, 168, kernel_size=(1, 1), stride=(1, 1))\n",
      "            (fc2): Conv2d(168, 672, kernel_size=(1, 1), stride=(1, 1))\n",
      "            (activation): ReLU()\n",
      "            (scale_activation): Hardsigmoid()\n",
      "          )\n",
      "          (3): Conv2dNormActivation(\n",
      "            (0): Conv2d(672, 112, kernel_size=(1, 1), stride=(1, 1), bias=False)\n",
      "            (1): BatchNorm2d(112, eps=0.001, momentum=0.01, affine=True, track_running_stats=True)\n",
      "          )\n",
      "        )\n",
      "      )\n",
      "      (13): InvertedResidual(\n",
      "        (block): Sequential(\n",
      "          (0): Conv2dNormActivation(\n",
      "            (0): Conv2d(112, 672, kernel_size=(1, 1), stride=(1, 1), bias=False)\n",
      "            (1): BatchNorm2d(672, eps=0.001, momentum=0.01, affine=True, track_running_stats=True)\n",
      "            (2): Hardswish()\n",
      "          )\n",
      "          (1): Conv2dNormActivation(\n",
      "            (0): Conv2d(672, 672, kernel_size=(5, 5), stride=(2, 2), padding=(2, 2), groups=672, bias=False)\n",
      "            (1): BatchNorm2d(672, eps=0.001, momentum=0.01, affine=True, track_running_stats=True)\n",
      "            (2): Hardswish()\n",
      "          )\n",
      "          (2): SqueezeExcitation(\n",
      "            (avgpool): AdaptiveAvgPool2d(output_size=1)\n",
      "            (fc1): Conv2d(672, 168, kernel_size=(1, 1), stride=(1, 1))\n",
      "            (fc2): Conv2d(168, 672, kernel_size=(1, 1), stride=(1, 1))\n",
      "            (activation): ReLU()\n",
      "            (scale_activation): Hardsigmoid()\n",
      "          )\n",
      "          (3): Conv2dNormActivation(\n",
      "            (0): Conv2d(672, 160, kernel_size=(1, 1), stride=(1, 1), bias=False)\n",
      "            (1): BatchNorm2d(160, eps=0.001, momentum=0.01, affine=True, track_running_stats=True)\n",
      "          )\n",
      "        )\n",
      "      )\n",
      "      (14): InvertedResidual(\n",
      "        (block): Sequential(\n",
      "          (0): Conv2dNormActivation(\n",
      "            (0): Conv2d(160, 960, kernel_size=(1, 1), stride=(1, 1), bias=False)\n",
      "            (1): BatchNorm2d(960, eps=0.001, momentum=0.01, affine=True, track_running_stats=True)\n",
      "            (2): Hardswish()\n",
      "          )\n",
      "          (1): Conv2dNormActivation(\n",
      "            (0): Conv2d(960, 960, kernel_size=(5, 5), stride=(1, 1), padding=(2, 2), groups=960, bias=False)\n",
      "            (1): BatchNorm2d(960, eps=0.001, momentum=0.01, affine=True, track_running_stats=True)\n",
      "            (2): Hardswish()\n",
      "          )\n",
      "          (2): SqueezeExcitation(\n",
      "            (avgpool): AdaptiveAvgPool2d(output_size=1)\n",
      "            (fc1): Conv2d(960, 240, kernel_size=(1, 1), stride=(1, 1))\n",
      "            (fc2): Conv2d(240, 960, kernel_size=(1, 1), stride=(1, 1))\n",
      "            (activation): ReLU()\n",
      "            (scale_activation): Hardsigmoid()\n",
      "          )\n",
      "          (3): Conv2dNormActivation(\n",
      "            (0): Conv2d(960, 160, kernel_size=(1, 1), stride=(1, 1), bias=False)\n",
      "            (1): BatchNorm2d(160, eps=0.001, momentum=0.01, affine=True, track_running_stats=True)\n",
      "          )\n",
      "        )\n",
      "      )\n",
      "      (15): InvertedResidual(\n",
      "        (block): Sequential(\n",
      "          (0): Conv2dNormActivation(\n",
      "            (0): Conv2d(160, 960, kernel_size=(1, 1), stride=(1, 1), bias=False)\n",
      "            (1): BatchNorm2d(960, eps=0.001, momentum=0.01, affine=True, track_running_stats=True)\n",
      "            (2): Hardswish()\n",
      "          )\n",
      "          (1): Conv2dNormActivation(\n",
      "            (0): Conv2d(960, 960, kernel_size=(5, 5), stride=(1, 1), padding=(2, 2), groups=960, bias=False)\n",
      "            (1): BatchNorm2d(960, eps=0.001, momentum=0.01, affine=True, track_running_stats=True)\n",
      "            (2): Hardswish()\n",
      "          )\n",
      "          (2): SqueezeExcitation(\n",
      "            (avgpool): AdaptiveAvgPool2d(output_size=1)\n",
      "            (fc1): Conv2d(960, 240, kernel_size=(1, 1), stride=(1, 1))\n",
      "            (fc2): Conv2d(240, 960, kernel_size=(1, 1), stride=(1, 1))\n",
      "            (activation): ReLU()\n",
      "            (scale_activation): Hardsigmoid()\n",
      "          )\n",
      "          (3): Conv2dNormActivation(\n",
      "            (0): Conv2d(960, 160, kernel_size=(1, 1), stride=(1, 1), bias=False)\n",
      "            (1): BatchNorm2d(160, eps=0.001, momentum=0.01, affine=True, track_running_stats=True)\n",
      "          )\n",
      "        )\n",
      "      )\n",
      "      (16): Conv2dNormActivation(\n",
      "        (0): Conv2d(160, 960, kernel_size=(1, 1), stride=(1, 1), bias=False)\n",
      "        (1): BatchNorm2d(960, eps=0.001, momentum=0.01, affine=True, track_running_stats=True)\n",
      "        (2): Hardswish()\n",
      "      )\n",
      "    )\n",
      "    (avgpool): AdaptiveAvgPool2d(output_size=1)\n",
      "    (classifier): Sequential(\n",
      "      (0): Linear(in_features=960, out_features=1280, bias=True)\n",
      "      (1): Hardswish()\n",
      "      (2): Dropout(p=0.2, inplace=True)\n",
      "      (3): Linear(in_features=1280, out_features=30, bias=True)\n",
      "    )\n",
      "  )\n",
      ")\n"
     ]
    },
    {
     "name": "stderr",
     "output_type": "stream",
     "text": [
      "/usr/local/lib/python3.8/dist-packages/torchvision/models/_utils.py:208: UserWarning: The parameter 'pretrained' is deprecated since 0.13 and will be removed in 0.15, please use 'weights' instead.\n",
      "  warnings.warn(\n",
      "/usr/local/lib/python3.8/dist-packages/torchvision/models/_utils.py:223: UserWarning: Arguments other than a weight enum or `None` for 'weights' are deprecated since 0.13 and will be removed in 0.15. The current behavior is equivalent to passing `weights=MobileNet_V3_Large_Weights.IMAGENET1K_V1`. You can also use `weights=MobileNet_V3_Large_Weights.DEFAULT` to get the most up-to-date weights.\n",
      "  warnings.warn(msg)\n"
     ]
    }
   ],
   "source": [
    "# ネットワークの学習準備\n",
    "net = Net()\n",
    "print(net)\n",
    "device = torch.device(\"cuda\" if torch.cuda.is_available() else \"cpu\")\n",
    "\n",
    "\n",
    "#  重みの読み込み 学習を途中から再開する場合\n",
    "# opt=torch.optim.Adam(net.parameters(), lr=5e-3, weight_decay=5e-3)\n",
    "# checkpoint=torch.load(\"/content/drive/MyDrive/temp11/8/model8.tar_72\",map_location=device)\n",
    "# net.load_state_dict(checkpoint[\"model_state_dict\"])\n",
    "# opt.load_state_dict(checkpoint[\"optimizer_state_dict\"])\n",
    "# #net.put_epoch(checkpoint[\"epoch\"])\n",
    "# epoch=checkpoint['epoch']\n",
    "# loss=checkpoint['losslogger']"
   ]
  },
  {
   "cell_type": "code",
   "execution_count": 74,
   "metadata": {},
   "outputs": [
    {
     "name": "stderr",
     "output_type": "stream",
     "text": [
      "GPU available: True, used: True\n",
      "No environment variable for node rank defined. Set as 0.\n",
      "CUDA_VISIBLE_DEVICES: [0]\n",
      "\n",
      "    | Name                                      | Type                 | Params\n",
      "-------------------------------------------------------------------------------\n",
      "0   | conv                                      | MobileNetV3          | 4 M   \n",
      "1   | conv.features                             | Sequential           | 2 M   \n",
      "2   | conv.features.0                           | Conv2dNormActivation | 464   \n",
      "3   | conv.features.0.0                         | Conv2d               | 432   \n",
      "4   | conv.features.0.1                         | BatchNorm2d          | 32    \n",
      "5   | conv.features.0.2                         | Hardswish            | 0     \n",
      "6   | conv.features.1                           | InvertedResidual     | 464   \n",
      "7   | conv.features.1.block                     | Sequential           | 464   \n",
      "8   | conv.features.1.block.0                   | Conv2dNormActivation | 176   \n",
      "9   | conv.features.1.block.0.0                 | Conv2d               | 144   \n",
      "10  | conv.features.1.block.0.1                 | BatchNorm2d          | 32    \n",
      "11  | conv.features.1.block.0.2                 | ReLU                 | 0     \n",
      "12  | conv.features.1.block.1                   | Conv2dNormActivation | 288   \n",
      "13  | conv.features.1.block.1.0                 | Conv2d               | 256   \n",
      "14  | conv.features.1.block.1.1                 | BatchNorm2d          | 32    \n",
      "15  | conv.features.2                           | InvertedResidual     | 3 K   \n",
      "16  | conv.features.2.block                     | Sequential           | 3 K   \n",
      "17  | conv.features.2.block.0                   | Conv2dNormActivation | 1 K   \n",
      "18  | conv.features.2.block.0.0                 | Conv2d               | 1 K   \n",
      "19  | conv.features.2.block.0.1                 | BatchNorm2d          | 128   \n",
      "20  | conv.features.2.block.0.2                 | ReLU                 | 0     \n",
      "21  | conv.features.2.block.1                   | Conv2dNormActivation | 704   \n",
      "22  | conv.features.2.block.1.0                 | Conv2d               | 576   \n",
      "23  | conv.features.2.block.1.1                 | BatchNorm2d          | 128   \n",
      "24  | conv.features.2.block.1.2                 | ReLU                 | 0     \n",
      "25  | conv.features.2.block.2                   | Conv2dNormActivation | 1 K   \n",
      "26  | conv.features.2.block.2.0                 | Conv2d               | 1 K   \n",
      "27  | conv.features.2.block.2.1                 | BatchNorm2d          | 48    \n",
      "28  | conv.features.3                           | InvertedResidual     | 4 K   \n",
      "29  | conv.features.3.block                     | Sequential           | 4 K   \n",
      "30  | conv.features.3.block.0                   | Conv2dNormActivation | 1 K   \n",
      "31  | conv.features.3.block.0.0                 | Conv2d               | 1 K   \n",
      "32  | conv.features.3.block.0.1                 | BatchNorm2d          | 144   \n",
      "33  | conv.features.3.block.0.2                 | ReLU                 | 0     \n",
      "34  | conv.features.3.block.1                   | Conv2dNormActivation | 792   \n",
      "35  | conv.features.3.block.1.0                 | Conv2d               | 648   \n",
      "36  | conv.features.3.block.1.1                 | BatchNorm2d          | 144   \n",
      "37  | conv.features.3.block.1.2                 | ReLU                 | 0     \n",
      "38  | conv.features.3.block.2                   | Conv2dNormActivation | 1 K   \n",
      "39  | conv.features.3.block.2.0                 | Conv2d               | 1 K   \n",
      "40  | conv.features.3.block.2.1                 | BatchNorm2d          | 48    \n",
      "41  | conv.features.4                           | InvertedResidual     | 10 K  \n",
      "42  | conv.features.4.block                     | Sequential           | 10 K  \n",
      "43  | conv.features.4.block.0                   | Conv2dNormActivation | 1 K   \n",
      "44  | conv.features.4.block.0.0                 | Conv2d               | 1 K   \n",
      "45  | conv.features.4.block.0.1                 | BatchNorm2d          | 144   \n",
      "46  | conv.features.4.block.0.2                 | ReLU                 | 0     \n",
      "47  | conv.features.4.block.1                   | Conv2dNormActivation | 1 K   \n",
      "48  | conv.features.4.block.1.0                 | Conv2d               | 1 K   \n",
      "49  | conv.features.4.block.1.1                 | BatchNorm2d          | 144   \n",
      "50  | conv.features.4.block.1.2                 | ReLU                 | 0     \n",
      "51  | conv.features.4.block.2                   | SqueezeExcitation    | 3 K   \n",
      "52  | conv.features.4.block.2.avgpool           | AdaptiveAvgPool2d    | 0     \n",
      "53  | conv.features.4.block.2.fc1               | Conv2d               | 1 K   \n",
      "54  | conv.features.4.block.2.fc2               | Conv2d               | 1 K   \n",
      "55  | conv.features.4.block.2.activation        | ReLU                 | 0     \n",
      "56  | conv.features.4.block.2.scale_activation  | Hardsigmoid          | 0     \n",
      "57  | conv.features.4.block.3                   | Conv2dNormActivation | 2 K   \n",
      "58  | conv.features.4.block.3.0                 | Conv2d               | 2 K   \n",
      "59  | conv.features.4.block.3.1                 | BatchNorm2d          | 80    \n",
      "60  | conv.features.5                           | InvertedResidual     | 20 K  \n",
      "61  | conv.features.5.block                     | Sequential           | 20 K  \n",
      "62  | conv.features.5.block.0                   | Conv2dNormActivation | 5 K   \n",
      "63  | conv.features.5.block.0.0                 | Conv2d               | 4 K   \n",
      "64  | conv.features.5.block.0.1                 | BatchNorm2d          | 240   \n",
      "65  | conv.features.5.block.0.2                 | ReLU                 | 0     \n",
      "66  | conv.features.5.block.1                   | Conv2dNormActivation | 3 K   \n",
      "67  | conv.features.5.block.1.0                 | Conv2d               | 3 K   \n",
      "68  | conv.features.5.block.1.1                 | BatchNorm2d          | 240   \n",
      "69  | conv.features.5.block.1.2                 | ReLU                 | 0     \n",
      "70  | conv.features.5.block.2                   | SqueezeExcitation    | 7 K   \n",
      "71  | conv.features.5.block.2.avgpool           | AdaptiveAvgPool2d    | 0     \n",
      "72  | conv.features.5.block.2.fc1               | Conv2d               | 3 K   \n",
      "73  | conv.features.5.block.2.fc2               | Conv2d               | 3 K   \n",
      "74  | conv.features.5.block.2.activation        | ReLU                 | 0     \n",
      "75  | conv.features.5.block.2.scale_activation  | Hardsigmoid          | 0     \n",
      "76  | conv.features.5.block.3                   | Conv2dNormActivation | 4 K   \n",
      "77  | conv.features.5.block.3.0                 | Conv2d               | 4 K   \n",
      "78  | conv.features.5.block.3.1                 | BatchNorm2d          | 80    \n",
      "79  | conv.features.6                           | InvertedResidual     | 20 K  \n",
      "80  | conv.features.6.block                     | Sequential           | 20 K  \n",
      "81  | conv.features.6.block.0                   | Conv2dNormActivation | 5 K   \n",
      "82  | conv.features.6.block.0.0                 | Conv2d               | 4 K   \n",
      "83  | conv.features.6.block.0.1                 | BatchNorm2d          | 240   \n",
      "84  | conv.features.6.block.0.2                 | ReLU                 | 0     \n",
      "85  | conv.features.6.block.1                   | Conv2dNormActivation | 3 K   \n",
      "86  | conv.features.6.block.1.0                 | Conv2d               | 3 K   \n",
      "87  | conv.features.6.block.1.1                 | BatchNorm2d          | 240   \n",
      "88  | conv.features.6.block.1.2                 | ReLU                 | 0     \n",
      "89  | conv.features.6.block.2                   | SqueezeExcitation    | 7 K   \n",
      "90  | conv.features.6.block.2.avgpool           | AdaptiveAvgPool2d    | 0     \n",
      "91  | conv.features.6.block.2.fc1               | Conv2d               | 3 K   \n",
      "92  | conv.features.6.block.2.fc2               | Conv2d               | 3 K   \n",
      "93  | conv.features.6.block.2.activation        | ReLU                 | 0     \n",
      "94  | conv.features.6.block.2.scale_activation  | Hardsigmoid          | 0     \n",
      "95  | conv.features.6.block.3                   | Conv2dNormActivation | 4 K   \n",
      "96  | conv.features.6.block.3.0                 | Conv2d               | 4 K   \n",
      "97  | conv.features.6.block.3.1                 | BatchNorm2d          | 80    \n",
      "98  | conv.features.7                           | InvertedResidual     | 32 K  \n",
      "99  | conv.features.7.block                     | Sequential           | 32 K  \n",
      "100 | conv.features.7.block.0                   | Conv2dNormActivation | 10 K  \n",
      "101 | conv.features.7.block.0.0                 | Conv2d               | 9 K   \n",
      "102 | conv.features.7.block.0.1                 | BatchNorm2d          | 480   \n",
      "103 | conv.features.7.block.0.2                 | Hardswish            | 0     \n",
      "104 | conv.features.7.block.1                   | Conv2dNormActivation | 2 K   \n",
      "105 | conv.features.7.block.1.0                 | Conv2d               | 2 K   \n",
      "106 | conv.features.7.block.1.1                 | BatchNorm2d          | 480   \n",
      "107 | conv.features.7.block.1.2                 | Hardswish            | 0     \n",
      "108 | conv.features.7.block.2                   | Conv2dNormActivation | 19 K  \n",
      "109 | conv.features.7.block.2.0                 | Conv2d               | 19 K  \n",
      "110 | conv.features.7.block.2.1                 | BatchNorm2d          | 160   \n",
      "111 | conv.features.8                           | InvertedResidual     | 34 K  \n",
      "112 | conv.features.8.block                     | Sequential           | 34 K  \n",
      "113 | conv.features.8.block.0                   | Conv2dNormActivation | 16 K  \n",
      "114 | conv.features.8.block.0.0                 | Conv2d               | 16 K  \n",
      "115 | conv.features.8.block.0.1                 | BatchNorm2d          | 400   \n",
      "116 | conv.features.8.block.0.2                 | Hardswish            | 0     \n",
      "117 | conv.features.8.block.1                   | Conv2dNormActivation | 2 K   \n",
      "118 | conv.features.8.block.1.0                 | Conv2d               | 1 K   \n",
      "119 | conv.features.8.block.1.1                 | BatchNorm2d          | 400   \n",
      "120 | conv.features.8.block.1.2                 | Hardswish            | 0     \n",
      "121 | conv.features.8.block.2                   | Conv2dNormActivation | 16 K  \n",
      "122 | conv.features.8.block.2.0                 | Conv2d               | 16 K  \n",
      "123 | conv.features.8.block.2.1                 | BatchNorm2d          | 160   \n",
      "124 | conv.features.9                           | InvertedResidual     | 31 K  \n",
      "125 | conv.features.9.block                     | Sequential           | 31 K  \n",
      "126 | conv.features.9.block.0                   | Conv2dNormActivation | 15 K  \n",
      "127 | conv.features.9.block.0.0                 | Conv2d               | 14 K  \n",
      "128 | conv.features.9.block.0.1                 | BatchNorm2d          | 368   \n",
      "129 | conv.features.9.block.0.2                 | Hardswish            | 0     \n",
      "130 | conv.features.9.block.1                   | Conv2dNormActivation | 2 K   \n",
      "131 | conv.features.9.block.1.0                 | Conv2d               | 1 K   \n",
      "132 | conv.features.9.block.1.1                 | BatchNorm2d          | 368   \n",
      "133 | conv.features.9.block.1.2                 | Hardswish            | 0     \n",
      "134 | conv.features.9.block.2                   | Conv2dNormActivation | 14 K  \n",
      "135 | conv.features.9.block.2.0                 | Conv2d               | 14 K  \n",
      "136 | conv.features.9.block.2.1                 | BatchNorm2d          | 160   \n",
      "137 | conv.features.10                          | InvertedResidual     | 31 K  \n",
      "138 | conv.features.10.block                    | Sequential           | 31 K  \n",
      "139 | conv.features.10.block.0                  | Conv2dNormActivation | 15 K  \n",
      "140 | conv.features.10.block.0.0                | Conv2d               | 14 K  \n",
      "141 | conv.features.10.block.0.1                | BatchNorm2d          | 368   \n",
      "142 | conv.features.10.block.0.2                | Hardswish            | 0     \n",
      "143 | conv.features.10.block.1                  | Conv2dNormActivation | 2 K   \n",
      "144 | conv.features.10.block.1.0                | Conv2d               | 1 K   \n",
      "145 | conv.features.10.block.1.1                | BatchNorm2d          | 368   \n",
      "146 | conv.features.10.block.1.2                | Hardswish            | 0     \n",
      "147 | conv.features.10.block.2                  | Conv2dNormActivation | 14 K  \n",
      "148 | conv.features.10.block.2.0                | Conv2d               | 14 K  \n",
      "149 | conv.features.10.block.2.1                | BatchNorm2d          | 160   \n",
      "150 | conv.features.11                          | InvertedResidual     | 214 K \n",
      "151 | conv.features.11.block                    | Sequential           | 214 K \n",
      "152 | conv.features.11.block.0                  | Conv2dNormActivation | 39 K  \n",
      "153 | conv.features.11.block.0.0                | Conv2d               | 38 K  \n",
      "154 | conv.features.11.block.0.1                | BatchNorm2d          | 960   \n",
      "155 | conv.features.11.block.0.2                | Hardswish            | 0     \n",
      "156 | conv.features.11.block.1                  | Conv2dNormActivation | 5 K   \n",
      "157 | conv.features.11.block.1.0                | Conv2d               | 4 K   \n",
      "158 | conv.features.11.block.1.1                | BatchNorm2d          | 960   \n",
      "159 | conv.features.11.block.1.2                | Hardswish            | 0     \n",
      "160 | conv.features.11.block.2                  | SqueezeExcitation    | 115 K \n",
      "161 | conv.features.11.block.2.avgpool          | AdaptiveAvgPool2d    | 0     \n",
      "162 | conv.features.11.block.2.fc1              | Conv2d               | 57 K  \n",
      "163 | conv.features.11.block.2.fc2              | Conv2d               | 58 K  \n",
      "164 | conv.features.11.block.2.activation       | ReLU                 | 0     \n",
      "165 | conv.features.11.block.2.scale_activation | Hardsigmoid          | 0     \n",
      "166 | conv.features.11.block.3                  | Conv2dNormActivation | 53 K  \n",
      "167 | conv.features.11.block.3.0                | Conv2d               | 53 K  \n",
      "168 | conv.features.11.block.3.1                | BatchNorm2d          | 224   \n",
      "169 | conv.features.12                          | InvertedResidual     | 386 K \n",
      "170 | conv.features.12.block                    | Sequential           | 386 K \n",
      "171 | conv.features.12.block.0                  | Conv2dNormActivation | 76 K  \n",
      "172 | conv.features.12.block.0.0                | Conv2d               | 75 K  \n",
      "173 | conv.features.12.block.0.1                | BatchNorm2d          | 1 K   \n",
      "174 | conv.features.12.block.0.2                | Hardswish            | 0     \n",
      "175 | conv.features.12.block.1                  | Conv2dNormActivation | 7 K   \n",
      "176 | conv.features.12.block.1.0                | Conv2d               | 6 K   \n",
      "177 | conv.features.12.block.1.1                | BatchNorm2d          | 1 K   \n",
      "178 | conv.features.12.block.1.2                | Hardswish            | 0     \n",
      "179 | conv.features.12.block.2                  | SqueezeExcitation    | 226 K \n",
      "180 | conv.features.12.block.2.avgpool          | AdaptiveAvgPool2d    | 0     \n",
      "181 | conv.features.12.block.2.fc1              | Conv2d               | 113 K \n",
      "182 | conv.features.12.block.2.fc2              | Conv2d               | 113 K \n",
      "183 | conv.features.12.block.2.activation       | ReLU                 | 0     \n",
      "184 | conv.features.12.block.2.scale_activation | Hardsigmoid          | 0     \n",
      "185 | conv.features.12.block.3                  | Conv2dNormActivation | 75 K  \n",
      "186 | conv.features.12.block.3.0                | Conv2d               | 75 K  \n",
      "187 | conv.features.12.block.3.1                | BatchNorm2d          | 224   \n",
      "188 | conv.features.13                          | InvertedResidual     | 429 K \n",
      "189 | conv.features.13.block                    | Sequential           | 429 K \n",
      "190 | conv.features.13.block.0                  | Conv2dNormActivation | 76 K  \n",
      "191 | conv.features.13.block.0.0                | Conv2d               | 75 K  \n",
      "192 | conv.features.13.block.0.1                | BatchNorm2d          | 1 K   \n",
      "193 | conv.features.13.block.0.2                | Hardswish            | 0     \n",
      "194 | conv.features.13.block.1                  | Conv2dNormActivation | 18 K  \n",
      "195 | conv.features.13.block.1.0                | Conv2d               | 16 K  \n",
      "196 | conv.features.13.block.1.1                | BatchNorm2d          | 1 K   \n",
      "197 | conv.features.13.block.1.2                | Hardswish            | 0     \n",
      "198 | conv.features.13.block.2                  | SqueezeExcitation    | 226 K \n",
      "199 | conv.features.13.block.2.avgpool          | AdaptiveAvgPool2d    | 0     \n",
      "200 | conv.features.13.block.2.fc1              | Conv2d               | 113 K \n",
      "201 | conv.features.13.block.2.fc2              | Conv2d               | 113 K \n",
      "202 | conv.features.13.block.2.activation       | ReLU                 | 0     \n",
      "203 | conv.features.13.block.2.scale_activation | Hardsigmoid          | 0     \n",
      "204 | conv.features.13.block.3                  | Conv2dNormActivation | 107 K \n",
      "205 | conv.features.13.block.3.0                | Conv2d               | 107 K \n",
      "206 | conv.features.13.block.3.1                | BatchNorm2d          | 320   \n",
      "207 | conv.features.14                          | InvertedResidual     | 797 K \n",
      "208 | conv.features.14.block                    | Sequential           | 797 K \n",
      "209 | conv.features.14.block.0                  | Conv2dNormActivation | 155 K \n",
      "210 | conv.features.14.block.0.0                | Conv2d               | 153 K \n",
      "211 | conv.features.14.block.0.1                | BatchNorm2d          | 1 K   \n",
      "212 | conv.features.14.block.0.2                | Hardswish            | 0     \n",
      "213 | conv.features.14.block.1                  | Conv2dNormActivation | 25 K  \n",
      "214 | conv.features.14.block.1.0                | Conv2d               | 24 K  \n",
      "215 | conv.features.14.block.1.1                | BatchNorm2d          | 1 K   \n",
      "216 | conv.features.14.block.1.2                | Hardswish            | 0     \n",
      "217 | conv.features.14.block.2                  | SqueezeExcitation    | 462 K \n",
      "218 | conv.features.14.block.2.avgpool          | AdaptiveAvgPool2d    | 0     \n",
      "219 | conv.features.14.block.2.fc1              | Conv2d               | 230 K \n",
      "220 | conv.features.14.block.2.fc2              | Conv2d               | 231 K \n",
      "221 | conv.features.14.block.2.activation       | ReLU                 | 0     \n",
      "222 | conv.features.14.block.2.scale_activation | Hardsigmoid          | 0     \n",
      "223 | conv.features.14.block.3                  | Conv2dNormActivation | 153 K \n",
      "224 | conv.features.14.block.3.0                | Conv2d               | 153 K \n",
      "225 | conv.features.14.block.3.1                | BatchNorm2d          | 320   \n",
      "226 | conv.features.15                          | InvertedResidual     | 797 K \n",
      "227 | conv.features.15.block                    | Sequential           | 797 K \n",
      "228 | conv.features.15.block.0                  | Conv2dNormActivation | 155 K \n",
      "229 | conv.features.15.block.0.0                | Conv2d               | 153 K \n",
      "230 | conv.features.15.block.0.1                | BatchNorm2d          | 1 K   \n",
      "231 | conv.features.15.block.0.2                | Hardswish            | 0     \n",
      "232 | conv.features.15.block.1                  | Conv2dNormActivation | 25 K  \n",
      "233 | conv.features.15.block.1.0                | Conv2d               | 24 K  \n",
      "234 | conv.features.15.block.1.1                | BatchNorm2d          | 1 K   \n",
      "235 | conv.features.15.block.1.2                | Hardswish            | 0     \n",
      "236 | conv.features.15.block.2                  | SqueezeExcitation    | 462 K \n",
      "237 | conv.features.15.block.2.avgpool          | AdaptiveAvgPool2d    | 0     \n",
      "238 | conv.features.15.block.2.fc1              | Conv2d               | 230 K \n",
      "239 | conv.features.15.block.2.fc2              | Conv2d               | 231 K \n",
      "240 | conv.features.15.block.2.activation       | ReLU                 | 0     \n",
      "241 | conv.features.15.block.2.scale_activation | Hardsigmoid          | 0     \n",
      "242 | conv.features.15.block.3                  | Conv2dNormActivation | 153 K \n",
      "243 | conv.features.15.block.3.0                | Conv2d               | 153 K \n",
      "244 | conv.features.15.block.3.1                | BatchNorm2d          | 320   \n",
      "245 | conv.features.16                          | Conv2dNormActivation | 155 K \n",
      "246 | conv.features.16.0                        | Conv2d               | 153 K \n",
      "247 | conv.features.16.1                        | BatchNorm2d          | 1 K   \n",
      "248 | conv.features.16.2                        | Hardswish            | 0     \n",
      "249 | conv.avgpool                              | AdaptiveAvgPool2d    | 0     \n",
      "250 | conv.classifier                           | Sequential           | 1 M   \n",
      "251 | conv.classifier.0                         | Linear               | 1 M   \n",
      "252 | conv.classifier.1                         | Hardswish            | 0     \n",
      "253 | conv.classifier.2                         | Dropout              | 0     \n",
      "254 | conv.classifier.3                         | Linear               | 38 K  \n"
     ]
    },
    {
     "data": {
      "application/vnd.jupyter.widget-view+json": {
       "model_id": "",
       "version_major": 2,
       "version_minor": 0
      },
      "text/plain": [
       "Validation sanity check: 0it [00:00, ?it/s]"
      ]
     },
     "metadata": {},
     "output_type": "display_data"
    },
    {
     "data": {
      "application/vnd.jupyter.widget-view+json": {
       "model_id": "0a07591350ea463ea898f9f226bb0272",
       "version_major": 2,
       "version_minor": 0
      },
      "text/plain": [
       "Training: 0it [00:00, ?it/s]"
      ]
     },
     "metadata": {},
     "output_type": "display_data"
    },
    {
     "data": {
      "application/vnd.jupyter.widget-view+json": {
       "model_id": "",
       "version_major": 2,
       "version_minor": 0
      },
      "text/plain": [
       "Validating: 0it [00:00, ?it/s]"
      ]
     },
     "metadata": {},
     "output_type": "display_data"
    },
    {
     "name": "stderr",
     "output_type": "stream",
     "text": [
      "/usr/local/lib/python3.8/dist-packages/pytorch_lightning/utilities/distributed.py:23: UserWarning: Did not find hyperparameters at model hparams. Saving checkpoint without hyperparameters.\n",
      "  warnings.warn(*args, **kwargs)\n"
     ]
    },
    {
     "data": {
      "application/vnd.jupyter.widget-view+json": {
       "model_id": "",
       "version_major": 2,
       "version_minor": 0
      },
      "text/plain": [
       "Validating: 0it [00:00, ?it/s]"
      ]
     },
     "metadata": {},
     "output_type": "display_data"
    },
    {
     "data": {
      "application/vnd.jupyter.widget-view+json": {
       "model_id": "",
       "version_major": 2,
       "version_minor": 0
      },
      "text/plain": [
       "Validating: 0it [00:00, ?it/s]"
      ]
     },
     "metadata": {},
     "output_type": "display_data"
    },
    {
     "data": {
      "application/vnd.jupyter.widget-view+json": {
       "model_id": "",
       "version_major": 2,
       "version_minor": 0
      },
      "text/plain": [
       "Validating: 0it [00:00, ?it/s]"
      ]
     },
     "metadata": {},
     "output_type": "display_data"
    },
    {
     "data": {
      "application/vnd.jupyter.widget-view+json": {
       "model_id": "",
       "version_major": 2,
       "version_minor": 0
      },
      "text/plain": [
       "Validating: 0it [00:00, ?it/s]"
      ]
     },
     "metadata": {},
     "output_type": "display_data"
    },
    {
     "data": {
      "application/vnd.jupyter.widget-view+json": {
       "model_id": "",
       "version_major": 2,
       "version_minor": 0
      },
      "text/plain": [
       "Validating: 0it [00:00, ?it/s]"
      ]
     },
     "metadata": {},
     "output_type": "display_data"
    },
    {
     "data": {
      "application/vnd.jupyter.widget-view+json": {
       "model_id": "",
       "version_major": 2,
       "version_minor": 0
      },
      "text/plain": [
       "Validating: 0it [00:00, ?it/s]"
      ]
     },
     "metadata": {},
     "output_type": "display_data"
    },
    {
     "data": {
      "application/vnd.jupyter.widget-view+json": {
       "model_id": "",
       "version_major": 2,
       "version_minor": 0
      },
      "text/plain": [
       "Validating: 0it [00:00, ?it/s]"
      ]
     },
     "metadata": {},
     "output_type": "display_data"
    },
    {
     "data": {
      "application/vnd.jupyter.widget-view+json": {
       "model_id": "",
       "version_major": 2,
       "version_minor": 0
      },
      "text/plain": [
       "Validating: 0it [00:00, ?it/s]"
      ]
     },
     "metadata": {},
     "output_type": "display_data"
    },
    {
     "data": {
      "application/vnd.jupyter.widget-view+json": {
       "model_id": "",
       "version_major": 2,
       "version_minor": 0
      },
      "text/plain": [
       "Validating: 0it [00:00, ?it/s]"
      ]
     },
     "metadata": {},
     "output_type": "display_data"
    },
    {
     "data": {
      "application/vnd.jupyter.widget-view+json": {
       "model_id": "",
       "version_major": 2,
       "version_minor": 0
      },
      "text/plain": [
       "Validating: 0it [00:00, ?it/s]"
      ]
     },
     "metadata": {},
     "output_type": "display_data"
    },
    {
     "data": {
      "application/vnd.jupyter.widget-view+json": {
       "model_id": "",
       "version_major": 2,
       "version_minor": 0
      },
      "text/plain": [
       "Validating: 0it [00:00, ?it/s]"
      ]
     },
     "metadata": {},
     "output_type": "display_data"
    },
    {
     "data": {
      "application/vnd.jupyter.widget-view+json": {
       "model_id": "",
       "version_major": 2,
       "version_minor": 0
      },
      "text/plain": [
       "Validating: 0it [00:00, ?it/s]"
      ]
     },
     "metadata": {},
     "output_type": "display_data"
    },
    {
     "data": {
      "application/vnd.jupyter.widget-view+json": {
       "model_id": "",
       "version_major": 2,
       "version_minor": 0
      },
      "text/plain": [
       "Validating: 0it [00:00, ?it/s]"
      ]
     },
     "metadata": {},
     "output_type": "display_data"
    },
    {
     "data": {
      "application/vnd.jupyter.widget-view+json": {
       "model_id": "",
       "version_major": 2,
       "version_minor": 0
      },
      "text/plain": [
       "Validating: 0it [00:00, ?it/s]"
      ]
     },
     "metadata": {},
     "output_type": "display_data"
    },
    {
     "data": {
      "application/vnd.jupyter.widget-view+json": {
       "model_id": "",
       "version_major": 2,
       "version_minor": 0
      },
      "text/plain": [
       "Validating: 0it [00:00, ?it/s]"
      ]
     },
     "metadata": {},
     "output_type": "display_data"
    },
    {
     "data": {
      "application/vnd.jupyter.widget-view+json": {
       "model_id": "",
       "version_major": 2,
       "version_minor": 0
      },
      "text/plain": [
       "Validating: 0it [00:00, ?it/s]"
      ]
     },
     "metadata": {},
     "output_type": "display_data"
    },
    {
     "data": {
      "application/vnd.jupyter.widget-view+json": {
       "model_id": "",
       "version_major": 2,
       "version_minor": 0
      },
      "text/plain": [
       "Validating: 0it [00:00, ?it/s]"
      ]
     },
     "metadata": {},
     "output_type": "display_data"
    },
    {
     "data": {
      "application/vnd.jupyter.widget-view+json": {
       "model_id": "",
       "version_major": 2,
       "version_minor": 0
      },
      "text/plain": [
       "Validating: 0it [00:00, ?it/s]"
      ]
     },
     "metadata": {},
     "output_type": "display_data"
    },
    {
     "data": {
      "application/vnd.jupyter.widget-view+json": {
       "model_id": "",
       "version_major": 2,
       "version_minor": 0
      },
      "text/plain": [
       "Validating: 0it [00:00, ?it/s]"
      ]
     },
     "metadata": {},
     "output_type": "display_data"
    },
    {
     "data": {
      "application/vnd.jupyter.widget-view+json": {
       "model_id": "",
       "version_major": 2,
       "version_minor": 0
      },
      "text/plain": [
       "Validating: 0it [00:00, ?it/s]"
      ]
     },
     "metadata": {},
     "output_type": "display_data"
    },
    {
     "data": {
      "application/vnd.jupyter.widget-view+json": {
       "model_id": "",
       "version_major": 2,
       "version_minor": 0
      },
      "text/plain": [
       "Validating: 0it [00:00, ?it/s]"
      ]
     },
     "metadata": {},
     "output_type": "display_data"
    },
    {
     "data": {
      "application/vnd.jupyter.widget-view+json": {
       "model_id": "",
       "version_major": 2,
       "version_minor": 0
      },
      "text/plain": [
       "Validating: 0it [00:00, ?it/s]"
      ]
     },
     "metadata": {},
     "output_type": "display_data"
    },
    {
     "data": {
      "application/vnd.jupyter.widget-view+json": {
       "model_id": "",
       "version_major": 2,
       "version_minor": 0
      },
      "text/plain": [
       "Validating: 0it [00:00, ?it/s]"
      ]
     },
     "metadata": {},
     "output_type": "display_data"
    },
    {
     "data": {
      "application/vnd.jupyter.widget-view+json": {
       "model_id": "",
       "version_major": 2,
       "version_minor": 0
      },
      "text/plain": [
       "Validating: 0it [00:00, ?it/s]"
      ]
     },
     "metadata": {},
     "output_type": "display_data"
    },
    {
     "data": {
      "application/vnd.jupyter.widget-view+json": {
       "model_id": "",
       "version_major": 2,
       "version_minor": 0
      },
      "text/plain": [
       "Validating: 0it [00:00, ?it/s]"
      ]
     },
     "metadata": {},
     "output_type": "display_data"
    },
    {
     "data": {
      "application/vnd.jupyter.widget-view+json": {
       "model_id": "",
       "version_major": 2,
       "version_minor": 0
      },
      "text/plain": [
       "Validating: 0it [00:00, ?it/s]"
      ]
     },
     "metadata": {},
     "output_type": "display_data"
    },
    {
     "data": {
      "application/vnd.jupyter.widget-view+json": {
       "model_id": "",
       "version_major": 2,
       "version_minor": 0
      },
      "text/plain": [
       "Validating: 0it [00:00, ?it/s]"
      ]
     },
     "metadata": {},
     "output_type": "display_data"
    },
    {
     "data": {
      "application/vnd.jupyter.widget-view+json": {
       "model_id": "",
       "version_major": 2,
       "version_minor": 0
      },
      "text/plain": [
       "Validating: 0it [00:00, ?it/s]"
      ]
     },
     "metadata": {},
     "output_type": "display_data"
    },
    {
     "data": {
      "application/vnd.jupyter.widget-view+json": {
       "model_id": "",
       "version_major": 2,
       "version_minor": 0
      },
      "text/plain": [
       "Validating: 0it [00:00, ?it/s]"
      ]
     },
     "metadata": {},
     "output_type": "display_data"
    },
    {
     "data": {
      "application/vnd.jupyter.widget-view+json": {
       "model_id": "",
       "version_major": 2,
       "version_minor": 0
      },
      "text/plain": [
       "Validating: 0it [00:00, ?it/s]"
      ]
     },
     "metadata": {},
     "output_type": "display_data"
    },
    {
     "data": {
      "application/vnd.jupyter.widget-view+json": {
       "model_id": "",
       "version_major": 2,
       "version_minor": 0
      },
      "text/plain": [
       "Validating: 0it [00:00, ?it/s]"
      ]
     },
     "metadata": {},
     "output_type": "display_data"
    },
    {
     "data": {
      "application/vnd.jupyter.widget-view+json": {
       "model_id": "",
       "version_major": 2,
       "version_minor": 0
      },
      "text/plain": [
       "Validating: 0it [00:00, ?it/s]"
      ]
     },
     "metadata": {},
     "output_type": "display_data"
    },
    {
     "data": {
      "application/vnd.jupyter.widget-view+json": {
       "model_id": "",
       "version_major": 2,
       "version_minor": 0
      },
      "text/plain": [
       "Validating: 0it [00:00, ?it/s]"
      ]
     },
     "metadata": {},
     "output_type": "display_data"
    },
    {
     "data": {
      "application/vnd.jupyter.widget-view+json": {
       "model_id": "",
       "version_major": 2,
       "version_minor": 0
      },
      "text/plain": [
       "Validating: 0it [00:00, ?it/s]"
      ]
     },
     "metadata": {},
     "output_type": "display_data"
    },
    {
     "data": {
      "application/vnd.jupyter.widget-view+json": {
       "model_id": "",
       "version_major": 2,
       "version_minor": 0
      },
      "text/plain": [
       "Validating: 0it [00:00, ?it/s]"
      ]
     },
     "metadata": {},
     "output_type": "display_data"
    },
    {
     "data": {
      "application/vnd.jupyter.widget-view+json": {
       "model_id": "",
       "version_major": 2,
       "version_minor": 0
      },
      "text/plain": [
       "Validating: 0it [00:00, ?it/s]"
      ]
     },
     "metadata": {},
     "output_type": "display_data"
    },
    {
     "data": {
      "application/vnd.jupyter.widget-view+json": {
       "model_id": "",
       "version_major": 2,
       "version_minor": 0
      },
      "text/plain": [
       "Validating: 0it [00:00, ?it/s]"
      ]
     },
     "metadata": {},
     "output_type": "display_data"
    },
    {
     "data": {
      "application/vnd.jupyter.widget-view+json": {
       "model_id": "",
       "version_major": 2,
       "version_minor": 0
      },
      "text/plain": [
       "Validating: 0it [00:00, ?it/s]"
      ]
     },
     "metadata": {},
     "output_type": "display_data"
    },
    {
     "data": {
      "application/vnd.jupyter.widget-view+json": {
       "model_id": "",
       "version_major": 2,
       "version_minor": 0
      },
      "text/plain": [
       "Validating: 0it [00:00, ?it/s]"
      ]
     },
     "metadata": {},
     "output_type": "display_data"
    },
    {
     "data": {
      "application/vnd.jupyter.widget-view+json": {
       "model_id": "",
       "version_major": 2,
       "version_minor": 0
      },
      "text/plain": [
       "Validating: 0it [00:00, ?it/s]"
      ]
     },
     "metadata": {},
     "output_type": "display_data"
    },
    {
     "data": {
      "application/vnd.jupyter.widget-view+json": {
       "model_id": "",
       "version_major": 2,
       "version_minor": 0
      },
      "text/plain": [
       "Validating: 0it [00:00, ?it/s]"
      ]
     },
     "metadata": {},
     "output_type": "display_data"
    },
    {
     "data": {
      "application/vnd.jupyter.widget-view+json": {
       "model_id": "",
       "version_major": 2,
       "version_minor": 0
      },
      "text/plain": [
       "Validating: 0it [00:00, ?it/s]"
      ]
     },
     "metadata": {},
     "output_type": "display_data"
    },
    {
     "data": {
      "application/vnd.jupyter.widget-view+json": {
       "model_id": "",
       "version_major": 2,
       "version_minor": 0
      },
      "text/plain": [
       "Validating: 0it [00:00, ?it/s]"
      ]
     },
     "metadata": {},
     "output_type": "display_data"
    },
    {
     "data": {
      "application/vnd.jupyter.widget-view+json": {
       "model_id": "",
       "version_major": 2,
       "version_minor": 0
      },
      "text/plain": [
       "Validating: 0it [00:00, ?it/s]"
      ]
     },
     "metadata": {},
     "output_type": "display_data"
    },
    {
     "data": {
      "application/vnd.jupyter.widget-view+json": {
       "model_id": "",
       "version_major": 2,
       "version_minor": 0
      },
      "text/plain": [
       "Validating: 0it [00:00, ?it/s]"
      ]
     },
     "metadata": {},
     "output_type": "display_data"
    },
    {
     "data": {
      "application/vnd.jupyter.widget-view+json": {
       "model_id": "",
       "version_major": 2,
       "version_minor": 0
      },
      "text/plain": [
       "Validating: 0it [00:00, ?it/s]"
      ]
     },
     "metadata": {},
     "output_type": "display_data"
    },
    {
     "data": {
      "application/vnd.jupyter.widget-view+json": {
       "model_id": "",
       "version_major": 2,
       "version_minor": 0
      },
      "text/plain": [
       "Validating: 0it [00:00, ?it/s]"
      ]
     },
     "metadata": {},
     "output_type": "display_data"
    },
    {
     "data": {
      "application/vnd.jupyter.widget-view+json": {
       "model_id": "",
       "version_major": 2,
       "version_minor": 0
      },
      "text/plain": [
       "Validating: 0it [00:00, ?it/s]"
      ]
     },
     "metadata": {},
     "output_type": "display_data"
    },
    {
     "data": {
      "application/vnd.jupyter.widget-view+json": {
       "model_id": "",
       "version_major": 2,
       "version_minor": 0
      },
      "text/plain": [
       "Validating: 0it [00:00, ?it/s]"
      ]
     },
     "metadata": {},
     "output_type": "display_data"
    },
    {
     "data": {
      "application/vnd.jupyter.widget-view+json": {
       "model_id": "",
       "version_major": 2,
       "version_minor": 0
      },
      "text/plain": [
       "Validating: 0it [00:00, ?it/s]"
      ]
     },
     "metadata": {},
     "output_type": "display_data"
    },
    {
     "data": {
      "application/vnd.jupyter.widget-view+json": {
       "model_id": "",
       "version_major": 2,
       "version_minor": 0
      },
      "text/plain": [
       "Validating: 0it [00:00, ?it/s]"
      ]
     },
     "metadata": {},
     "output_type": "display_data"
    },
    {
     "data": {
      "application/vnd.jupyter.widget-view+json": {
       "model_id": "",
       "version_major": 2,
       "version_minor": 0
      },
      "text/plain": [
       "Validating: 0it [00:00, ?it/s]"
      ]
     },
     "metadata": {},
     "output_type": "display_data"
    },
    {
     "data": {
      "application/vnd.jupyter.widget-view+json": {
       "model_id": "",
       "version_major": 2,
       "version_minor": 0
      },
      "text/plain": [
       "Validating: 0it [00:00, ?it/s]"
      ]
     },
     "metadata": {},
     "output_type": "display_data"
    },
    {
     "data": {
      "application/vnd.jupyter.widget-view+json": {
       "model_id": "",
       "version_major": 2,
       "version_minor": 0
      },
      "text/plain": [
       "Validating: 0it [00:00, ?it/s]"
      ]
     },
     "metadata": {},
     "output_type": "display_data"
    },
    {
     "data": {
      "application/vnd.jupyter.widget-view+json": {
       "model_id": "",
       "version_major": 2,
       "version_minor": 0
      },
      "text/plain": [
       "Validating: 0it [00:00, ?it/s]"
      ]
     },
     "metadata": {},
     "output_type": "display_data"
    },
    {
     "data": {
      "application/vnd.jupyter.widget-view+json": {
       "model_id": "",
       "version_major": 2,
       "version_minor": 0
      },
      "text/plain": [
       "Validating: 0it [00:00, ?it/s]"
      ]
     },
     "metadata": {},
     "output_type": "display_data"
    },
    {
     "data": {
      "application/vnd.jupyter.widget-view+json": {
       "model_id": "",
       "version_major": 2,
       "version_minor": 0
      },
      "text/plain": [
       "Validating: 0it [00:00, ?it/s]"
      ]
     },
     "metadata": {},
     "output_type": "display_data"
    },
    {
     "data": {
      "application/vnd.jupyter.widget-view+json": {
       "model_id": "",
       "version_major": 2,
       "version_minor": 0
      },
      "text/plain": [
       "Validating: 0it [00:00, ?it/s]"
      ]
     },
     "metadata": {},
     "output_type": "display_data"
    },
    {
     "data": {
      "application/vnd.jupyter.widget-view+json": {
       "model_id": "",
       "version_major": 2,
       "version_minor": 0
      },
      "text/plain": [
       "Validating: 0it [00:00, ?it/s]"
      ]
     },
     "metadata": {},
     "output_type": "display_data"
    },
    {
     "data": {
      "application/vnd.jupyter.widget-view+json": {
       "model_id": "",
       "version_major": 2,
       "version_minor": 0
      },
      "text/plain": [
       "Validating: 0it [00:00, ?it/s]"
      ]
     },
     "metadata": {},
     "output_type": "display_data"
    },
    {
     "data": {
      "application/vnd.jupyter.widget-view+json": {
       "model_id": "",
       "version_major": 2,
       "version_minor": 0
      },
      "text/plain": [
       "Validating: 0it [00:00, ?it/s]"
      ]
     },
     "metadata": {},
     "output_type": "display_data"
    },
    {
     "data": {
      "application/vnd.jupyter.widget-view+json": {
       "model_id": "",
       "version_major": 2,
       "version_minor": 0
      },
      "text/plain": [
       "Validating: 0it [00:00, ?it/s]"
      ]
     },
     "metadata": {},
     "output_type": "display_data"
    },
    {
     "data": {
      "application/vnd.jupyter.widget-view+json": {
       "model_id": "",
       "version_major": 2,
       "version_minor": 0
      },
      "text/plain": [
       "Validating: 0it [00:00, ?it/s]"
      ]
     },
     "metadata": {},
     "output_type": "display_data"
    },
    {
     "data": {
      "application/vnd.jupyter.widget-view+json": {
       "model_id": "",
       "version_major": 2,
       "version_minor": 0
      },
      "text/plain": [
       "Validating: 0it [00:00, ?it/s]"
      ]
     },
     "metadata": {},
     "output_type": "display_data"
    },
    {
     "data": {
      "application/vnd.jupyter.widget-view+json": {
       "model_id": "",
       "version_major": 2,
       "version_minor": 0
      },
      "text/plain": [
       "Validating: 0it [00:00, ?it/s]"
      ]
     },
     "metadata": {},
     "output_type": "display_data"
    },
    {
     "data": {
      "application/vnd.jupyter.widget-view+json": {
       "model_id": "",
       "version_major": 2,
       "version_minor": 0
      },
      "text/plain": [
       "Validating: 0it [00:00, ?it/s]"
      ]
     },
     "metadata": {},
     "output_type": "display_data"
    },
    {
     "data": {
      "application/vnd.jupyter.widget-view+json": {
       "model_id": "",
       "version_major": 2,
       "version_minor": 0
      },
      "text/plain": [
       "Validating: 0it [00:00, ?it/s]"
      ]
     },
     "metadata": {},
     "output_type": "display_data"
    },
    {
     "data": {
      "application/vnd.jupyter.widget-view+json": {
       "model_id": "",
       "version_major": 2,
       "version_minor": 0
      },
      "text/plain": [
       "Validating: 0it [00:00, ?it/s]"
      ]
     },
     "metadata": {},
     "output_type": "display_data"
    },
    {
     "data": {
      "application/vnd.jupyter.widget-view+json": {
       "model_id": "",
       "version_major": 2,
       "version_minor": 0
      },
      "text/plain": [
       "Validating: 0it [00:00, ?it/s]"
      ]
     },
     "metadata": {},
     "output_type": "display_data"
    },
    {
     "data": {
      "application/vnd.jupyter.widget-view+json": {
       "model_id": "",
       "version_major": 2,
       "version_minor": 0
      },
      "text/plain": [
       "Validating: 0it [00:00, ?it/s]"
      ]
     },
     "metadata": {},
     "output_type": "display_data"
    },
    {
     "data": {
      "application/vnd.jupyter.widget-view+json": {
       "model_id": "",
       "version_major": 2,
       "version_minor": 0
      },
      "text/plain": [
       "Validating: 0it [00:00, ?it/s]"
      ]
     },
     "metadata": {},
     "output_type": "display_data"
    },
    {
     "data": {
      "application/vnd.jupyter.widget-view+json": {
       "model_id": "",
       "version_major": 2,
       "version_minor": 0
      },
      "text/plain": [
       "Validating: 0it [00:00, ?it/s]"
      ]
     },
     "metadata": {},
     "output_type": "display_data"
    },
    {
     "data": {
      "application/vnd.jupyter.widget-view+json": {
       "model_id": "",
       "version_major": 2,
       "version_minor": 0
      },
      "text/plain": [
       "Validating: 0it [00:00, ?it/s]"
      ]
     },
     "metadata": {},
     "output_type": "display_data"
    },
    {
     "data": {
      "application/vnd.jupyter.widget-view+json": {
       "model_id": "",
       "version_major": 2,
       "version_minor": 0
      },
      "text/plain": [
       "Validating: 0it [00:00, ?it/s]"
      ]
     },
     "metadata": {},
     "output_type": "display_data"
    },
    {
     "data": {
      "text/plain": [
       "1"
      ]
     },
     "execution_count": 74,
     "metadata": {},
     "output_type": "execute_result"
    }
   ],
   "source": [
    "# 単一のGPUで学習を行う場合\n",
    "trainer = Trainer(max_epochs=75,gpus=1)\n",
    "# trainer = Trainer(max_epochs=61)\n",
    "# ネットワークの学習\n",
    "trainer.fit(net)"
   ]
  },
  {
   "cell_type": "code",
   "execution_count": 75,
   "metadata": {
    "scrolled": true
   },
   "outputs": [
    {
     "data": {
      "text/plain": [
       "{'loss': tensor(11.8936, device='cuda:0'),\n",
       " 'train/train_loss': tensor(11.8936, device='cuda:0'),\n",
       " 'train/train_acc': tensor(0., device='cuda:0'),\n",
       " 'val_loss': tensor(0.7490, device='cuda:0'),\n",
       " 'val_acc': tensor(0.9557, device='cuda:0'),\n",
       " 'val/avg_loss': tensor(0.7490, device='cuda:0'),\n",
       " 'val/avg_acc': tensor(0.9557, device='cuda:0'),\n",
       " 'epoch': 74}"
      ]
     },
     "execution_count": 75,
     "metadata": {},
     "output_type": "execute_result"
    }
   ],
   "source": [
    "# 最終的なエポックの検証データに対する結果\n",
    "trainer.callback_metrics"
   ]
  },
  {
   "cell_type": "code",
   "execution_count": 76,
   "metadata": {},
   "outputs": [],
   "source": [
    "# 学習済みモデルの保存\n",
    "torch.save(net.state_dict(), 'Linkdata/datasetkato/mobilenetv3_nosolid3.pt')"
   ]
  },
  {
   "cell_type": "code",
   "execution_count": 77,
   "metadata": {},
   "outputs": [],
   "source": [
    "# 学習済みモデルの保存\n",
    "torch.save(net.to('cpu').state_dict(), 'Linkdata/datasetkato/mobilenetv3_CPU_nosolid3.pt')"
   ]
  },
  {
   "cell_type": "code",
   "execution_count": 78,
   "metadata": {},
   "outputs": [
    {
     "name": "stdout",
     "output_type": "stream",
     "text": [
      "17\n",
      "tensor(17)\n",
      "tensor([[0.0000e+00, 0.0000e+00, 3.5579e-42, 3.5713e-39, 1.3200e-41, 0.0000e+00,\n",
      "         0.0000e+00, 6.2132e-39, 0.0000e+00, 0.0000e+00, 0.0000e+00, 0.0000e+00,\n",
      "         7.9306e-26, 0.0000e+00, 0.0000e+00, 0.0000e+00, 0.0000e+00, 1.0000e+00,\n",
      "         0.0000e+00, 8.9894e-29, 6.0329e-39, 0.0000e+00, 2.5044e-35, 0.0000e+00,\n",
      "         0.0000e+00, 0.0000e+00, 0.0000e+00, 1.5400e-42, 0.0000e+00, 7.0065e-45]],\n",
      "       grad_fn=<SoftmaxBackward0>)\n",
      "1.0\n",
      "100.0%\n"
     ]
    }
   ],
   "source": [
    "# ネットワークの準備\n",
    "net = Net().to('cpu')\n",
    "\n",
    "# 重みの読み込み\n",
    "net.load_state_dict(torch.load('Linkdata/datasetkato/mobilenetv3_CPU_nosolid3.pt'))\n",
    "net.eval()\n",
    "\n",
    "# 予測値の計算\n",
    "y = net.forward(test[0][0].unsqueeze(0))\n",
    "\n",
    "# 教師データ\n",
    "print(test[0][1])\n",
    "\n",
    "# 予測ラベル\n",
    "print(y.argmax())\n",
    "\n",
    "#確率\n",
    "y_proba = F.softmax(y,dim=1)\n",
    "print(y_proba)\n",
    "y_proba = y_proba.detach().clone().numpy().max()\n",
    "print(y_proba)\n",
    "y_proba = '{:.1%}'.format(y_proba)\n",
    "print(y_proba)"
   ]
  },
  {
   "cell_type": "code",
   "execution_count": 79,
   "metadata": {},
   "outputs": [
    {
     "name": "stdout",
     "output_type": "stream",
     "text": [
      "tensor(27)\n"
     ]
    }
   ],
   "source": [
    "a=net.forward(test[10][0].unsqueeze(0))\n",
    "print(a.argmax())"
   ]
  },
  {
   "cell_type": "code",
   "execution_count": 80,
   "metadata": {},
   "outputs": [
    {
     "name": "stdout",
     "output_type": "stream",
     "text": [
      "27\n"
     ]
    }
   ],
   "source": [
    "print(test[10][1])"
   ]
  },
  {
   "cell_type": "code",
   "execution_count": 81,
   "metadata": {
    "scrolled": true
   },
   "outputs": [
    {
     "name": "stdout",
     "output_type": "stream",
     "text": [
      "[17, 10, 4, 0, 24, 11, 6, 15, 14, 8, 27, 8, 3, 23, 1, 28, 3, 25, 10, 12, 9, 7, 23, 19, 27, 1, 25, 23, 8, 3, 12, 3, 25, 16, 3, 28, 2, 9, 23, 16, 25, 13, 21, 27, 16, 25, 26, 2, 25, 22, 13, 14, 20, 7, 2, 20, 3, 23, 25, 3, 27, 13, 9, 4, 21, 12, 20, 19, 14, 17, 0, 7, 28, 23, 24, 25, 26, 6, 2, 19, 19, 16, 15, 20, 3, 2, 15, 26, 24, 28, 25, 1, 24, 4, 2, 21, 12, 9, 2, 0, 1, 17, 6, 2, 6, 3, 25, 1, 17, 8, 15, 13, 24, 2, 13, 16, 27, 22, 14, 19, 4, 9, 0, 27, 4, 23, 12, 6, 23, 19, 15, 10, 13, 28, 16, 12, 11, 2, 16, 9, 19, 28, 17, 25, 27, 28, 1, 2, 8, 3, 25, 4, 28, 21, 28, 22, 16, 4, 23, 9, 6, 11, 16, 16, 4, 26, 19, 7, 2, 29, 12, 2, 6, 19, 16, 16, 7, 16, 28, 4, 25, 23, 21, 1, 20, 28, 2, 3, 7, 6, 26, 2, 25, 22, 13, 1, 17, 25, 24, 19, 19, 7, 27, 4, 19, 9, 7, 9, 25, 15, 17, 19, 28, 3, 23, 26, 14, 19, 1, 26, 10, 1, 14, 1, 2, 15, 2, 16, 14, 26, 8, 3, 0, 28, 13, 3, 1, 12, 24, 14, 28, 24, 15, 4, 10, 16, 4, 2, 3, 1, 0, 23, 24, 11, 3, 22, 11, 1, 16, 16, 24, 7, 0, 0, 7, 29, 2, 14, 27, 11, 14, 16, 14, 28, 16, 19, 7, 0, 2, 15, 13, 24, 6, 7, 3, 7, 20, 21, 10, 22, 24, 20, 19, 1, 26, 2, 10, 14, 15, 10, 0, 4, 6, 25, 14, 17, 16, 21, 1, 11, 27, 25, 29, 17, 24, 21, 10, 19, 16, 16, 29, 12, 22, 16, 19, 11, 2, 4, 23, 17, 14, 19, 4, 8, 24, 27, 16, 12, 8, 29, 22, 17, 2, 2, 25, 27, 7, 25, 0, 15, 16, 4, 12, 25, 12, 3, 9, 6, 2, 28, 27, 16, 13, 6, 16, 22, 28, 1, 25, 16, 25, 9, 0, 1, 14, 11, 21, 20, 7, 19, 16, 20, 1, 24, 25, 7, 7, 2, 0, 20, 6, 16, 29, 24, 26, 11, 2, 0, 1, 17, 24, 24, 24, 4, 7, 15, 1, 11, 24, 0, 26, 15, 15, 16, 25, 15, 0, 2, 10, 25, 15, 6, 4, 11, 7, 29, 27, 2, 29, 1, 11, 6, 7, 3, 16, 19, 24, 20, 6, 23, 23, 22, 3, 13, 16, 14, 20, 13, 15, 27, 7, 22, 11, 7, 17, 4, 20, 15, 4, 3, 23, 2, 10, 8, 14, 14, 17, 16, 11, 14, 20, 3, 9, 8, 27, 24, 20, 22, 20, 23, 15, 3, 6, 2, 26, 2, 4, 0, 17, 29, 25, 23, 6, 17, 17, 6, 28, 19, 25, 16, 20, 16, 8, 16, 8, 3, 12, 28, 4, 10, 1, 29, 1, 14, 25, 29, 22, 28, 17, 25, 6, 0, 1, 13, 7, 2, 2, 25, 23, 6, 25, 2, 2, 20, 2, 16, 4, 11, 8, 15, 10, 16, 2, 11, 2, 17, 9, 16, 7, 23, 25, 8, 19, 19, 11, 20, 23, 12, 25, 3, 29, 28, 26, 21, 20, 1, 17, 14, 23, 27, 6, 22, 13, 1, 7, 9, 27, 25, 21, 25, 17, 27, 4, 22, 12, 6, 21, 19, 20, 16, 16, 8, 14, 17, 11, 19, 6, 11, 20, 8, 23, 27, 3, 1, 27, 3, 6, 10, 16, 1, 29, 0, 2, 20, 2, 6, 6, 10, 4, 0, 6, 29, 0, 3, 23, 6, 8, 20, 3, 2, 25, 26, 25, 3, 28, 21, 15, 25, 2, 2, 1, 4, 25, 19, 10, 23, 1, 27, 2, 11, 27, 20, 21, 1, 25, 17, 2, 16, 24, 0, 9, 2, 0, 24, 7, 2, 23, 13, 23, 26, 23, 6, 9, 12, 4, 17, 11, 26, 4, 20, 15, 6, 2, 14, 14, 11, 17, 25, 20, 21, 25, 16, 8, 16, 27, 22, 20, 21, 25, 25, 20, 17, 1, 6, 7, 15, 10, 7, 8, 3, 6, 23, 11, 14, 21, 10, 11, 2, 15, 12, 25, 16, 14, 2, 0, 1, 12, 19, 0, 14, 14, 19, 0, 6, 25, 16, 28, 2, 22, 28, 23, 12, 14, 20, 8, 15, 22, 22, 23, 16, 26, 14, 11, 1, 1, 10, 10, 13, 23, 6, 28, 2, 3, 27, 2, 9, 11, 21, 8, 8, 6, 22, 23, 19, 16, 16, 20, 16, 23, 6, 19, 6, 13, 6, 12, 12, 2, 2, 6, 3, 16, 25, 13, 23, 0, 20, 28, 22, 7, 8, 25, 28, 0, 29, 1, 8, 2, 16, 24, 26, 17, 11, 11, 1, 9, 2, 24, 19, 13, 4, 15, 24, 2, 2, 8, 14, 25, 7, 25, 25, 20, 27, 25, 10, 23, 16, 26, 26, 10, 17, 3, 13, 24, 17, 6, 10, 0, 9, 14, 16, 25, 15, 24, 2, 26, 22, 9, 23, 14, 13, 7, 9, 2, 14, 7, 4, 21, 0, 23, 15, 6, 2, 23, 10, 1, 13, 0, 27, 27, 25, 0, 3, 17, 14, 15, 27, 2, 20, 6, 10, 23, 19, 23, 25, 24, 6, 17, 24, 11, 2, 28, 6, 2, 8, 12, 27, 21, 23, 27, 13, 2, 25, 16, 21, 6, 26, 20, 2, 29, 15, 25, 17, 16, 24, 22, 14, 23, 20, 9, 10, 17, 12, 24, 25, 16, 6, 22, 8, 7, 20, 13, 27, 15, 6, 7, 19, 6, 9, 21, 4, 9, 6, 3, 7, 3, 23, 21, 1, 1, 8, 13, 11, 27, 0, 9, 16, 14, 8, 24, 23, 0, 1, 7, 25, 23, 0, 10, 24, 19, 4, 0, 10, 16, 6, 14, 24, 24, 17, 20, 27, 14, 4, 26, 23, 10, 26, 6, 13, 0, 19, 9, 25, 15, 2, 15, 23, 8, 7, 4, 1, 14, 6, 12, 2, 7, 0, 20, 17, 23, 19, 1, 0, 17, 2, 16, 2, 22, 2, 11, 1, 14, 25, 6, 23, 6, 29, 25, 12, 22, 23, 25, 21, 25, 16, 19, 25, 6, 6, 6, 0, 4, 25, 2, 14, 26, 9, 9, 27, 16, 17, 20, 20, 27, 10, 25, 27, 16, 28, 11, 21, 14, 21, 17, 29, 7, 20, 0, 12, 28, 8, 6, 19, 17, 1, 2, 22, 21, 24, 14, 2, 17, 22, 17, 17, 15, 17, 17, 0, 23, 7, 27, 12, 2, 23, 20, 0, 20, 22, 29, 16, 1, 11, 2, 25, 26, 1, 17, 29, 12, 14, 25, 24, 12, 19, 21, 6, 13, 25, 20, 3, 24, 10, 25, 27, 11, 20, 9, 16, 20, 24, 0, 9, 13, 21, 19, 13, 0, 19, 25, 22, 25, 19, 24, 27, 24, 17, 8, 3, 4, 28, 25, 14, 28, 24, 23, 9, 0, 4, 23, 17, 16, 20, 9, 0, 22, 13, 3, 0, 3, 25, 13, 4, 3, 22, 17, 12, 1, 14, 14, 17, 16, 4, 2, 16, 22, 11, 7, 29, 3, 0, 25, 20, 28, 11, 3, 3, 24, 28, 9, 24, 29, 4, 9, 23, 3, 6, 27, 2, 3, 2, 3, 25, 2, 14, 29, 3, 26, 28, 19, 28, 0, 21, 4, 16, 8, 15, 20, 23, 11, 23, 6, 25, 13, 28, 12, 7, 14, 2, 16, 0, 11, 23, 29, 6, 25, 14, 12, 2, 20, 2, 9, 0, 0, 21, 6, 25, 4, 6, 7, 15, 2, 16, 15, 11, 9, 10, 23, 29, 12, 16, 7, 16, 22, 7, 24, 7, 2, 9, 23, 26, 6, 23, 14, 14, 25, 2, 10, 26, 2, 6, 20, 0, 16, 25, 7, 7, 2, 10, 17, 2, 29, 10, 22, 14, 14, 27, 2, 12, 14, 6, 3, 20, 29, 25, 6, 28, 25, 25, 27, 9, 24, 17, 27, 8, 10, 20, 10, 10, 2, 27, 20, 16, 16, 25, 27, 8, 17, 23, 16, 16, 25, 10, 6, 10, 13, 23, 19, 1, 4, 19, 16, 22, 1, 28, 0, 13, 0, 19, 4, 11, 25, 21, 23, 27, 7, 17, 21, 22, 20, 11, 3, 7, 23, 0, 2, 9, 28, 3, 0, 12, 11, 1, 10, 28, 3, 20, 6, 9, 2, 19, 24, 22, 8, 16, 27, 4, 2, 8, 23, 1, 29, 0, 25, 25, 11, 29, 13, 1, 2, 19, 26, 14, 16, 25, 26, 16, 22, 3, 3, 2, 7, 4, 4, 0, 25, 15, 2, 11, 26, 6, 2, 6, 3, 16, 3, 26, 13, 0, 16, 2, 0, 16, 1, 6, 0, 16, 2, 10, 11, 26, 13, 0, 29, 3, 0, 26, 7, 16, 11, 19, 24, 27, 25, 13, 9, 26, 29, 2, 14, 16, 3, 16, 8, 10, 8, 4, 8, 16, 16, 10, 11, 0, 0, 2, 20, 22, 23, 12, 19, 10, 28, 15, 16, 26, 0, 14, 6, 15, 9, 0, 11, 21, 29, 6, 2, 16, 2, 24, 16, 3, 24, 6, 19, 12, 7, 15, 22, 3, 16, 1, 9, 4, 8, 12, 6, 4, 21, 1, 23, 14, 0, 12, 12, 27, 27, 3, 6, 13, 9, 26, 17, 1, 3, 24, 4, 28, 10, 19, 3, 12, 7, 2, 6, 12, 16, 24, 23, 23, 21, 20, 2, 25, 26, 29, 25, 8, 25, 1, 9, 2, 26, 4, 20, 6, 24, 3, 15, 25, 28, 20, 6, 6, 12, 6, 14, 14, 28, 16, 23, 0, 4, 13, 17, 4, 0, 8, 4, 27, 2, 13, 19, 3, 17, 17, 11, 0, 6, 17, 1, 19, 14, 23, 13, 2, 9, 15, 7, 21, 17, 23, 20, 6, 25, 12, 22, 25, 6, 26, 20, 9, 25, 13, 26, 0, 7, 15, 1, 16, 10, 28, 0, 7, 24, 13, 16, 6, 1, 16, 2, 25, 28, 12, 25, 14, 11, 3, 0, 6, 10, 16, 10, 20, 8, 28, 19, 4, 16, 23, 27, 19, 13, 6, 3, 12, 9, 26, 19, 14, 19, 11, 24, 15, 16, 20, 15, 14, 6, 3, 6, 28, 2, 9, 16, 12, 17, 24, 2, 10, 20, 7, 6, 0, 21, 26, 24, 6, 25, 10, 20, 6, 16, 26, 17, 19, 15, 16, 1, 21, 1, 0, 6, 10, 2, 12, 12, 14, 8, 29, 2, 12, 20, 19, 23, 15, 11, 29, 26, 15, 17, 19, 25, 21, 23, 23, 2, 3, 23, 17, 10, 4, 13, 11, 23, 19, 4, 6, 13, 19, 19, 15, 22, 7, 21, 8, 29, 23, 12, 21, 12, 14, 17, 13, 17, 4, 22, 1, 2, 24, 12, 16, 25, 14, 0, 2, 16, 8, 17, 0, 9, 29, 3, 6, 16, 20, 28, 17, 2, 10, 28, 27, 1, 13, 0, 13, 11, 13, 25, 27, 23, 28, 20, 20, 14, 3, 8, 21, 25, 25, 16, 17, 13, 13, 25, 3, 26, 20, 27, 26, 4, 4, 10, 17, 20, 19, 12, 26, 20, 7, 11, 14, 9, 8, 11, 19, 17, 26, 20, 3, 23, 20, 7, 7, 10, 2, 25, 23, 28, 9, 11, 20, 16, 3, 2, 26, 28, 6, 21, 2, 17, 12, 22, 28, 22, 19, 7, 28, 3, 24, 10, 22, 23, 29, 14, 6, 16, 2, 20, 7, 23, 12, 23, 25, 7, 2, 25, 1, 11, 24, 14, 9, 6, 14, 25, 17, 4, 12, 2, 15, 13, 0, 2, 21, 0, 0, 7, 1, 27, 1, 29, 26, 2, 26, 15, 7, 22, 22, 11, 20, 2, 10, 14, 21, 7, 0, 27, 22, 13, 0, 17, 11, 24, 16, 0, 9, 8, 3, 0, 14, 16, 16, 23, 19, 17, 20, 27, 0, 16, 25, 12, 23, 20, 9, 25, 4, 3, 13, 22, 17, 7, 2, 20, 24, 19, 20, 12, 1, 17, 0, 3, 21, 20, 0, 16, 25, 22, 17, 0, 25, 19, 25, 21, 28, 22, 23, 14, 14, 2, 21, 9, 14, 19, 19, 12, 23, 17, 25, 22, 25, 10, 1, 14, 1, 12, 16, 2, 1, 9, 12, 26, 1, 3, 20, 4, 3, 3, 17, 25, 20, 19, 1, 15, 0, 11, 10, 6, 20, 10, 0, 4, 23, 22, 13, 0, 15, 25, 16, 19, 10, 7, 6, 26, 13, 20, 8, 19, 27, 6, 1, 6, 2, 20, 2, 10, 28, 2, 25, 28, 2, 20, 2, 3, 3, 9, 0, 1, 28, 15, 26, 3, 12, 25, 25, 13, 14, 9, 16, 10, 25, 28, 6, 20, 10, 17, 20, 22, 13, 10, 7, 16, 8, 28, 17, 2, 14, 24, 23, 3, 14, 2, 6, 12, 26, 9, 15, 16, 25, 6, 17, 7, 11, 2, 16, 12, 25, 24, 28, 16, 7, 20, 16, 13, 13, 16, 11, 22, 13, 21, 25, 21, 13, 2, 11, 9, 27, 3, 28, 3, 2, 29, 25, 4, 8, 19, 24, 0, 2, 20, 19, 26, 4, 7, 8, 23, 28, 16, 24, 19, 22, 27, 4, 21, 14, 17, 7, 21, 3, 20, 23, 12, 23, 26, 0, 16, 15, 15, 11, 26, 26, 14, 7, 7, 25, 26, 26, 0, 24, 19, 15, 25, 22, 16, 2, 3, 11, 8, 1, 12, 8, 0, 25, 25, 21, 8, 23, 16, 4, 6, 19, 29, 6, 3, 19, 17, 12, 26, 25, 25, 15, 23, 12, 23, 14, 0, 3, 6, 0, 2, 19, 16, 3, 17, 2, 10, 10, 25, 4, 2, 20, 6, 0, 13, 20, 7, 6, 26, 6, 19, 25, 1, 28, 25, 7, 2, 24, 11, 2, 13, 7, 14, 15, 29, 28, 3, 10, 1, 1, 4, 16, 29, 11, 1, 25, 3, 11, 0, 17, 11, 16, 14, 13, 1, 13, 27, 16, 25, 14, 10, 3, 0, 19, 2, 1, 8, 16, 4, 25, 29, 3, 16, 9, 1, 21, 3, 0, 14, 1, 20, 3, 26, 20, 0, 26, 28, 23, 14, 29, 14, 1, 24, 17, 27, 28, 8, 0, 23, 19, 6, 19, 20, 17, 14, 19, 24, 16, 20, 9, 7, 25, 12, 23, 15, 6, 0, 9, 8, 2, 25, 23, 0, 26, 16, 17, 9, 9, 4, 27, 10, 13, 16, 6, 7, 0, 10, 25, 4, 7, 8, 7, 20, 4, 16, 0, 16, 10, 20, 16, 21, 7, 8, 9, 14, 23, 20, 23, 20, 20, 1, 19, 20, 7, 27, 21, 14, 12, 10, 14, 24, 14, 3, 11, 23, 2, 3, 3, 17, 3, 21, 4, 9, 7, 0, 3, 15, 8, 19, 22, 17, 11, 6, 25, 25, 2, 28, 2, 15, 26, 2, 13, 12, 26, 2, 21, 14, 24, 25, 19, 0, 21, 29, 22, 14, 0, 3, 23, 7, 26, 9, 10, 13, 24, 15, 4, 4, 11, 17, 16, 16, 20, 20, 27, 25, 6, 14, 12, 20, 13, 29, 21, 3, 0, 20, 11, 22, 23, 13, 13, 6, 3, 7, 13, 25, 9, 2, 21, 2, 0, 17, 10, 25, 6, 20, 27, 6, 7, 14, 29, 23, 25, 27, 2, 0, 23, 17, 25, 3, 15, 4, 1, 7, 17, 28, 21, 19, 11, 16, 29, 25, 15, 3, 26, 0, 22, 15, 16, 25, 20, 2, 0, 2, 0, 29, 17, 26, 1, 8, 11, 16, 22, 15, 19, 13, 25, 15, 12, 23, 26, 6, 0, 2, 8, 0, 26, 19, 12, 15, 6, 29, 13, 7, 27, 24, 2, 17, 6, 11, 10, 23, 4, 14, 14, 19, 13, 4, 0, 23, 26, 4, 16, 25, 19, 25, 26, 3, 3, 3, 20, 12, 27, 7, 13, 10, 17, 25, 25, 11, 2, 9, 24, 6, 3, 1, 3, 11, 11, 3, 19, 19, 25, 9, 20, 19, 2, 4, 15, 2, 20, 24, 2, 8, 29, 2, 25, 15, 23, 7, 25, 0, 3, 12, 15, 23, 2, 28, 2, 17, 19, 12, 20, 2, 23, 25, 17, 14, 8, 25, 3, 6, 27, 15, 26, 26, 9, 13, 25, 16, 27, 2, 11, 27, 0, 0, 29, 9, 1, 16, 17, 13, 28, 19, 2, 14, 7, 25, 20, 20, 16, 6, 19, 27, 22, 13, 23, 6, 7, 13, 27, 17, 28, 13, 21, 2, 6, 26, 21, 26, 9, 4, 20, 28, 21, 27, 19, 25, 26, 10, 27, 29, 21, 10, 6, 7, 21, 26, 0, 6, 9, 0, 29, 13, 11, 12, 16, 13, 2, 7, 1, 9, 25, 24, 3, 14, 27, 11, 1, 20, 22, 23, 1, 0, 9, 12, 23, 21, 2, 20, 0, 0, 21, 4, 12, 15, 29, 14, 15, 20, 0, 25, 6, 16, 2, 7, 10, 24, 8, 12, 14, 15, 19, 23, 16, 13, 3, 8, 2, 21, 28, 19, 8, 7, 1, 2, 7, 20, 25, 1, 16, 0, 16, 4, 8, 15, 24, 3, 17, 2, 16, 17, 22, 28, 2, 16, 7, 7, 14, 29, 23, 0, 3, 3, 27, 7, 20, 28, 22, 15, 21, 22, 25, 24, 15, 14, 12, 0, 16, 8, 26, 22, 11, 27, 23, 7, 7, 23, 2, 14, 29, 26, 3, 25, 0, 3, 11, 20, 1, 23, 13, 3, 16, 22, 12, 16, 25, 10, 3, 24, 4, 3, 17, 6, 16, 8, 0, 25, 14, 23, 28, 21, 25, 6, 17, 22, 20, 9, 21, 4, 14, 20, 7, 14, 19, 28, 1, 0, 1, 28, 8, 15, 26, 25, 16, 3, 4, 26, 25, 28, 17, 6, 8, 6, 23, 20, 3, 24, 2, 25, 13, 20, 20, 12, 4, 7, 0, 21, 15, 13, 1, 2, 1, 23, 23, 2, 15, 26, 7, 13, 7, 20, 6, 15, 26, 25, 12, 13, 14, 17, 20, 9, 8, 3, 6, 9, 3, 3, 23, 20, 21, 4, 0, 12, 24, 6, 1, 23, 27, 17, 26, 8, 28, 25, 25, 16, 7, 1, 0, 25, 20, 11, 3, 25, 11, 12, 4, 21, 8, 2, 6, 28, 2, 4, 21, 16, 15, 24, 29, 23, 27, 26, 15, 21, 29, 6, 0, 6, 9, 0, 11, 25, 15, 0, 14, 8, 23, 9, 14, 6, 23, 14, 14, 17, 7, 24, 28, 6, 25, 2, 25, 0, 19, 4, 3, 12, 22, 6, 4, 3, 2, 24, 14, 28, 21, 1, 12, 17, 25, 28, 1, 25, 27, 7, 25, 7, 2, 1, 2, 6, 8, 2, 12, 13, 16, 16, 25, 9, 1, 2, 28, 10, 27, 8, 23, 11, 16, 22, 24, 12, 24, 0, 15, 17, 27, 0, 26, 6, 28, 15, 10, 23, 2, 20, 11, 0, 7, 7, 13, 16, 0, 14, 11, 1, 4, 23, 25, 7, 6, 1, 16, 27, 12, 15, 24, 4, 1, 8, 10, 24, 25, 10, 26, 16, 25, 1, 27, 4, 28, 6, 21, 19, 16, 25, 1, 3, 17, 10, 7, 16, 29, 28, 14, 21, 25, 14, 23, 22, 14, 27, 2, 16, 0, 17, 12, 20, 21, 3, 17, 6, 12, 9, 0, 26, 22, 27, 25, 6, 26, 14, 9, 12, 8, 23, 16, 21, 25, 6, 23, 2, 21, 15, 29, 15, 27, 24, 25, 17, 21, 9, 6, 24, 6, 12, 15, 0, 4, 0, 12, 17, 20, 13, 1, 2, 12, 10, 25, 8, 4, 20, 10, 29, 25, 3, 22, 14, 26, 12, 8, 6, 17, 16, 13, 26, 24, 20, 28, 17, 16, 12, 11, 21, 9, 28, 7, 20, 2, 6, 7, 6, 8, 1, 25, 14, 6, 10, 3, 16, 21, 2, 3, 14, 17, 11, 15, 0, 10, 24, 6, 9, 28, 7, 3, 24, 14, 2, 25, 16, 6, 2, 0, 6, 25, 21, 22, 25, 17, 0, 24, 20, 7, 2, 25, 27, 24, 4, 28, 6, 6, 20, 13, 19, 20, 3, 26, 2, 22, 19, 6, 0, 19, 25, 0, 10, 20, 0, 12, 22, 19, 2, 11, 26, 8, 29, 16, 25, 25, 20, 6, 21, 17, 16, 3, 11, 8, 7, 15, 0, 2, 20, 15, 20, 19, 11, 20, 6, 4, 14, 15, 25, 16, 28, 9, 28, 8, 20, 3, 1, 14, 17, 15, 2, 4, 22, 17, 16, 1, 8, 7, 11, 14, 1, 4, 22, 12, 12, 26, 12, 19, 3, 13, 17, 11, 19, 12, 8, 4, 15, 16, 27, 17, 12, 16, 2, 1, 13, 11, 9, 0, 15, 2, 22, 24, 16, 16, 17, 24, 27, 26, 17, 27, 17, 7, 24, 25, 9, 16, 2, 6, 12, 1, 19, 16, 19, 4, 7, 25, 9, 0, 22, 25, 10, 26, 17, 3, 6, 11, 15, 23, 17, 2, 19, 25, 0, 19, 16, 26, 15]\n"
     ]
    }
   ],
   "source": [
    "predict=[]\n",
    "answer=[]\n",
    "num=len(test)\n",
    "#print(num)\n",
    "for i in range(num):\n",
    "    pre = net.forward(test[i][0].unsqueeze(0))\n",
    "    #print(pre)\n",
    "    # 予測値の計算\n",
    "    predict.append(pre.argmax().detach().clone().numpy().item())\n",
    "    \n",
    "    # 答えラベル\n",
    "    ans=test[i][1]\n",
    "    answer.append(ans)\n",
    "print(predict)"
   ]
  },
  {
   "cell_type": "code",
   "execution_count": 82,
   "metadata": {},
   "outputs": [
    {
     "name": "stdout",
     "output_type": "stream",
     "text": [
      "[17, 10, 5, 0, 24, 11, 6, 15, 14, 8, 27, 8, 3, 23, 1, 28, 3, 25, 10, 16, 9, 7, 29, 19, 27, 1, 25, 23, 8, 3, 12, 3, 25, 16, 3, 28, 2, 9, 23, 16, 25, 13, 21, 27, 16, 25, 26, 2, 25, 22, 13, 14, 20, 7, 2, 20, 3, 23, 25, 3, 27, 13, 9, 5, 21, 12, 20, 19, 14, 17, 0, 7, 28, 23, 24, 25, 26, 6, 2, 18, 19, 16, 15, 20, 3, 2, 15, 26, 24, 28, 25, 1, 24, 4, 2, 21, 12, 9, 2, 0, 1, 17, 6, 2, 6, 3, 25, 1, 17, 8, 15, 13, 24, 2, 13, 16, 27, 22, 14, 19, 5, 9, 0, 27, 5, 23, 12, 6, 23, 18, 15, 10, 13, 28, 16, 12, 11, 2, 16, 9, 19, 28, 17, 25, 27, 28, 1, 2, 8, 3, 25, 5, 28, 21, 28, 22, 16, 4, 23, 9, 6, 11, 16, 16, 4, 26, 16, 7, 2, 29, 12, 2, 6, 19, 16, 16, 7, 16, 28, 5, 25, 23, 21, 1, 20, 28, 2, 3, 7, 5, 26, 2, 25, 22, 13, 1, 17, 25, 24, 18, 19, 7, 27, 4, 19, 9, 7, 9, 25, 15, 17, 19, 28, 3, 23, 26, 14, 18, 1, 26, 10, 1, 14, 1, 2, 22, 2, 16, 14, 26, 8, 3, 0, 28, 13, 3, 1, 16, 24, 14, 28, 24, 15, 4, 10, 16, 5, 2, 3, 1, 0, 29, 24, 11, 3, 22, 11, 1, 16, 16, 24, 7, 0, 0, 7, 29, 2, 14, 27, 29, 14, 16, 14, 28, 16, 19, 7, 0, 2, 15, 13, 24, 6, 7, 3, 7, 20, 21, 10, 22, 24, 20, 18, 1, 26, 2, 10, 14, 15, 10, 0, 5, 6, 25, 14, 17, 16, 21, 1, 11, 27, 25, 29, 17, 24, 21, 10, 19, 16, 16, 29, 12, 22, 16, 18, 11, 2, 5, 29, 17, 14, 19, 4, 8, 24, 27, 16, 12, 8, 29, 22, 17, 2, 2, 25, 27, 7, 25, 0, 15, 16, 4, 16, 25, 12, 3, 9, 6, 2, 28, 27, 16, 13, 6, 16, 22, 28, 16, 25, 16, 25, 9, 0, 1, 14, 11, 21, 20, 7, 19, 16, 20, 1, 24, 25, 7, 7, 2, 0, 20, 6, 16, 29, 25, 5, 11, 2, 0, 1, 17, 24, 24, 24, 4, 7, 15, 1, 11, 24, 0, 26, 15, 15, 16, 25, 15, 0, 2, 10, 25, 15, 6, 4, 11, 7, 29, 27, 2, 29, 1, 29, 6, 7, 3, 16, 19, 24, 20, 6, 23, 23, 22, 3, 13, 16, 14, 20, 13, 15, 27, 7, 22, 11, 7, 17, 4, 20, 15, 4, 3, 29, 2, 10, 8, 14, 14, 17, 16, 11, 14, 20, 3, 9, 8, 27, 24, 20, 22, 20, 23, 15, 3, 6, 2, 26, 2, 4, 0, 17, 29, 25, 23, 6, 17, 17, 6, 28, 19, 25, 16, 20, 16, 8, 16, 8, 3, 12, 28, 4, 10, 1, 29, 1, 14, 25, 29, 22, 28, 17, 25, 6, 0, 1, 13, 7, 2, 2, 25, 23, 6, 25, 2, 2, 20, 2, 16, 4, 11, 8, 15, 10, 16, 2, 11, 2, 17, 9, 16, 7, 29, 25, 8, 19, 18, 11, 20, 23, 12, 25, 3, 29, 28, 26, 21, 20, 1, 17, 14, 23, 27, 6, 22, 13, 16, 7, 9, 27, 25, 21, 25, 17, 27, 4, 22, 16, 6, 21, 19, 20, 16, 16, 8, 14, 17, 11, 19, 6, 11, 20, 8, 23, 27, 3, 1, 27, 3, 6, 10, 16, 1, 29, 0, 2, 20, 2, 6, 6, 10, 5, 0, 6, 29, 0, 3, 29, 6, 8, 20, 3, 2, 25, 26, 25, 3, 28, 21, 15, 25, 2, 2, 1, 4, 25, 19, 10, 23, 1, 27, 2, 29, 27, 20, 21, 1, 25, 17, 2, 16, 24, 0, 9, 2, 0, 24, 7, 2, 23, 13, 23, 26, 23, 6, 9, 12, 5, 17, 29, 26, 4, 20, 15, 6, 2, 14, 14, 29, 17, 25, 20, 21, 25, 16, 8, 16, 27, 22, 20, 21, 25, 25, 20, 17, 1, 6, 7, 15, 10, 7, 8, 3, 6, 23, 11, 14, 21, 10, 11, 2, 15, 12, 25, 16, 14, 2, 0, 1, 12, 19, 0, 14, 14, 18, 0, 6, 25, 16, 28, 2, 22, 28, 29, 12, 14, 20, 8, 15, 22, 22, 29, 16, 26, 14, 11, 1, 1, 10, 10, 13, 23, 6, 28, 2, 3, 27, 2, 9, 11, 21, 8, 8, 6, 22, 23, 19, 16, 16, 20, 16, 23, 6, 18, 6, 13, 6, 12, 12, 2, 2, 6, 3, 16, 25, 13, 23, 0, 20, 28, 22, 7, 8, 25, 28, 0, 29, 1, 8, 2, 16, 24, 26, 17, 11, 11, 1, 9, 2, 24, 18, 13, 4, 15, 24, 2, 2, 8, 14, 25, 7, 25, 25, 20, 27, 25, 10, 23, 16, 26, 26, 10, 17, 3, 13, 24, 17, 6, 10, 0, 9, 14, 16, 25, 15, 16, 2, 26, 22, 9, 23, 14, 13, 7, 9, 2, 14, 7, 4, 21, 0, 23, 15, 6, 2, 23, 10, 1, 13, 0, 27, 27, 25, 0, 3, 17, 14, 15, 27, 2, 20, 6, 10, 29, 18, 29, 25, 24, 6, 17, 24, 29, 2, 28, 6, 2, 8, 16, 27, 21, 29, 27, 13, 2, 25, 16, 21, 6, 26, 20, 2, 29, 15, 25, 17, 16, 24, 22, 14, 23, 20, 9, 10, 17, 12, 24, 25, 16, 5, 22, 8, 7, 20, 13, 27, 15, 6, 7, 19, 6, 9, 21, 4, 9, 6, 3, 7, 3, 23, 21, 1, 1, 8, 13, 11, 27, 0, 9, 16, 14, 8, 24, 29, 0, 1, 7, 25, 23, 0, 10, 25, 19, 4, 0, 10, 16, 6, 14, 24, 24, 17, 20, 27, 14, 4, 26, 23, 10, 26, 6, 13, 0, 19, 9, 25, 15, 2, 15, 23, 8, 7, 4, 1, 14, 5, 12, 2, 7, 0, 20, 17, 23, 19, 1, 0, 17, 2, 16, 2, 22, 2, 11, 1, 14, 25, 6, 23, 6, 29, 25, 12, 22, 23, 25, 21, 25, 16, 19, 25, 6, 6, 6, 0, 4, 25, 2, 14, 6, 9, 9, 27, 16, 17, 20, 20, 27, 10, 25, 27, 16, 28, 11, 21, 14, 21, 17, 29, 7, 20, 0, 12, 28, 8, 6, 19, 17, 1, 2, 22, 21, 24, 14, 2, 17, 22, 17, 17, 15, 17, 17, 0, 29, 7, 27, 12, 2, 29, 20, 0, 20, 22, 29, 16, 1, 11, 2, 25, 26, 1, 17, 29, 12, 14, 25, 24, 12, 19, 21, 5, 13, 25, 20, 3, 24, 10, 25, 27, 11, 20, 9, 16, 20, 24, 0, 9, 13, 21, 19, 13, 0, 19, 25, 22, 25, 19, 24, 27, 24, 17, 8, 3, 4, 28, 25, 14, 28, 24, 23, 9, 0, 4, 23, 17, 16, 20, 9, 0, 22, 13, 3, 0, 3, 25, 13, 5, 3, 22, 17, 12, 1, 14, 14, 17, 16, 4, 2, 16, 22, 11, 7, 29, 3, 0, 25, 20, 28, 11, 3, 3, 24, 28, 9, 24, 29, 5, 9, 23, 3, 6, 27, 2, 3, 2, 3, 25, 2, 14, 29, 3, 5, 28, 19, 28, 0, 21, 4, 16, 8, 15, 20, 23, 11, 23, 6, 25, 13, 28, 12, 7, 14, 2, 16, 0, 11, 23, 29, 6, 25, 14, 12, 2, 20, 2, 9, 0, 0, 21, 6, 25, 5, 6, 7, 15, 2, 16, 15, 29, 9, 10, 29, 29, 12, 16, 7, 16, 22, 7, 24, 7, 2, 9, 29, 26, 6, 23, 14, 14, 25, 2, 10, 26, 2, 6, 20, 0, 16, 25, 7, 7, 2, 10, 17, 2, 29, 10, 22, 14, 14, 27, 2, 12, 14, 6, 3, 20, 29, 25, 6, 28, 25, 25, 27, 9, 24, 17, 27, 8, 10, 20, 10, 10, 2, 27, 20, 16, 16, 25, 27, 8, 17, 29, 16, 16, 25, 10, 6, 10, 13, 23, 19, 1, 4, 19, 16, 22, 16, 28, 0, 13, 0, 19, 4, 29, 25, 21, 23, 27, 7, 17, 21, 22, 20, 29, 3, 7, 23, 0, 2, 9, 28, 3, 0, 12, 29, 1, 10, 28, 3, 20, 6, 9, 2, 19, 24, 22, 8, 16, 27, 4, 2, 8, 23, 1, 29, 0, 25, 25, 11, 29, 13, 1, 2, 19, 26, 14, 16, 25, 26, 16, 22, 3, 3, 2, 7, 4, 4, 0, 25, 15, 2, 11, 26, 6, 2, 6, 3, 16, 3, 26, 13, 0, 16, 2, 0, 16, 1, 6, 0, 16, 2, 10, 29, 26, 13, 0, 29, 3, 0, 26, 7, 16, 11, 19, 24, 27, 25, 13, 9, 26, 29, 2, 14, 16, 3, 16, 8, 10, 8, 4, 8, 16, 16, 10, 11, 0, 0, 2, 20, 22, 23, 12, 19, 10, 28, 15, 16, 26, 0, 14, 6, 15, 9, 0, 11, 21, 29, 6, 2, 16, 2, 24, 16, 3, 24, 6, 19, 12, 7, 15, 22, 3, 16, 1, 9, 4, 8, 12, 6, 4, 21, 1, 23, 14, 0, 12, 12, 27, 27, 3, 6, 13, 9, 26, 17, 1, 3, 24, 4, 28, 10, 16, 3, 12, 7, 2, 6, 16, 16, 24, 23, 29, 21, 20, 2, 25, 26, 29, 25, 8, 25, 1, 9, 2, 6, 4, 20, 6, 24, 3, 15, 25, 28, 20, 6, 6, 12, 6, 14, 14, 28, 16, 23, 0, 5, 13, 17, 4, 0, 8, 4, 27, 2, 13, 18, 3, 17, 17, 11, 0, 6, 17, 1, 19, 14, 23, 13, 2, 9, 15, 7, 21, 17, 23, 20, 6, 25, 12, 22, 25, 6, 26, 20, 9, 25, 13, 26, 0, 7, 15, 1, 16, 10, 28, 0, 7, 24, 13, 16, 6, 1, 16, 2, 25, 28, 12, 25, 14, 11, 3, 0, 6, 10, 16, 10, 20, 8, 28, 18, 4, 16, 23, 27, 19, 13, 6, 3, 12, 9, 26, 19, 14, 17, 11, 24, 15, 16, 20, 15, 14, 6, 3, 6, 28, 2, 9, 16, 12, 17, 24, 2, 10, 20, 7, 5, 0, 21, 26, 24, 6, 25, 10, 20, 6, 16, 26, 17, 19, 15, 16, 1, 21, 1, 0, 6, 10, 2, 12, 12, 14, 8, 29, 2, 12, 20, 19, 23, 15, 11, 29, 26, 15, 17, 19, 25, 21, 23, 29, 2, 3, 23, 17, 10, 4, 13, 11, 23, 17, 5, 6, 13, 19, 19, 15, 22, 7, 21, 8, 29, 23, 12, 21, 12, 14, 17, 13, 17, 4, 22, 1, 2, 24, 12, 16, 25, 14, 0, 2, 16, 8, 17, 0, 9, 29, 3, 6, 16, 20, 28, 17, 2, 10, 28, 27, 1, 13, 0, 13, 11, 13, 25, 27, 29, 28, 20, 20, 14, 3, 8, 21, 25, 25, 16, 17, 13, 13, 25, 3, 26, 20, 27, 6, 4, 5, 10, 17, 20, 16, 12, 26, 20, 7, 11, 14, 9, 8, 11, 19, 17, 26, 20, 3, 29, 20, 7, 7, 10, 2, 25, 23, 28, 9, 11, 20, 16, 3, 2, 6, 28, 6, 21, 2, 17, 12, 22, 28, 22, 19, 7, 28, 3, 24, 10, 22, 23, 29, 14, 6, 16, 2, 20, 7, 23, 12, 23, 25, 7, 2, 25, 1, 11, 24, 14, 9, 6, 14, 25, 17, 4, 12, 2, 15, 13, 0, 2, 21, 0, 0, 7, 1, 27, 1, 29, 26, 2, 26, 8, 7, 22, 22, 11, 20, 2, 10, 14, 21, 7, 0, 27, 22, 13, 0, 17, 11, 24, 16, 0, 9, 8, 3, 0, 14, 16, 16, 23, 19, 17, 20, 27, 0, 16, 25, 12, 23, 20, 9, 25, 4, 3, 13, 22, 17, 7, 2, 20, 24, 19, 20, 12, 1, 17, 0, 3, 21, 20, 0, 16, 25, 22, 17, 0, 25, 19, 25, 21, 28, 22, 23, 14, 14, 2, 21, 9, 14, 19, 19, 12, 23, 17, 25, 22, 25, 10, 1, 14, 1, 12, 16, 2, 1, 9, 12, 26, 1, 3, 20, 4, 3, 3, 17, 25, 20, 19, 1, 15, 0, 11, 10, 6, 20, 10, 0, 5, 29, 22, 13, 0, 15, 25, 16, 19, 10, 7, 6, 26, 13, 20, 8, 19, 27, 6, 1, 6, 2, 20, 2, 10, 28, 2, 25, 28, 2, 20, 2, 3, 3, 9, 0, 1, 28, 15, 26, 3, 12, 25, 25, 13, 14, 9, 16, 10, 25, 28, 6, 20, 10, 17, 20, 22, 13, 10, 7, 16, 8, 28, 17, 2, 14, 24, 23, 3, 14, 2, 6, 12, 26, 9, 15, 16, 25, 5, 17, 7, 11, 2, 16, 12, 25, 24, 28, 16, 7, 20, 16, 13, 13, 16, 11, 22, 13, 21, 25, 21, 13, 2, 29, 9, 27, 3, 28, 3, 2, 29, 25, 4, 8, 19, 24, 0, 2, 20, 18, 26, 5, 7, 8, 23, 28, 16, 24, 19, 22, 27, 4, 21, 14, 17, 7, 21, 3, 20, 29, 12, 23, 26, 0, 16, 15, 15, 11, 6, 26, 14, 7, 7, 25, 6, 26, 0, 24, 19, 15, 25, 22, 16, 2, 3, 11, 8, 1, 12, 8, 0, 25, 25, 21, 8, 23, 16, 4, 6, 18, 29, 6, 3, 16, 17, 12, 26, 25, 25, 15, 23, 16, 23, 14, 0, 3, 6, 0, 2, 19, 16, 3, 17, 2, 10, 10, 25, 4, 2, 20, 6, 0, 13, 20, 7, 6, 26, 6, 18, 25, 1, 28, 25, 7, 2, 24, 11, 2, 13, 7, 14, 15, 29, 28, 3, 10, 1, 1, 4, 16, 29, 11, 1, 25, 3, 11, 0, 17, 11, 16, 14, 13, 1, 13, 27, 16, 25, 14, 10, 3, 0, 19, 2, 1, 8, 16, 4, 25, 29, 3, 16, 9, 1, 21, 3, 0, 14, 1, 20, 3, 6, 20, 0, 26, 28, 23, 14, 29, 14, 1, 24, 17, 27, 28, 8, 0, 23, 19, 6, 19, 20, 17, 14, 19, 24, 16, 20, 9, 7, 25, 12, 23, 15, 6, 0, 9, 8, 2, 25, 23, 0, 26, 16, 17, 9, 9, 4, 27, 10, 13, 16, 6, 7, 0, 10, 25, 4, 7, 8, 7, 20, 4, 16, 0, 16, 10, 20, 16, 21, 7, 8, 9, 14, 29, 20, 23, 20, 20, 1, 19, 20, 7, 27, 21, 14, 12, 10, 14, 24, 14, 3, 11, 29, 2, 3, 3, 17, 3, 21, 4, 9, 7, 0, 3, 15, 8, 19, 22, 17, 11, 6, 25, 25, 2, 28, 2, 15, 26, 2, 13, 12, 6, 2, 21, 14, 24, 25, 18, 0, 21, 29, 22, 14, 0, 3, 23, 7, 26, 9, 10, 13, 24, 15, 4, 4, 11, 17, 16, 16, 20, 20, 27, 25, 6, 14, 16, 20, 13, 29, 21, 3, 0, 20, 11, 22, 23, 13, 13, 6, 3, 7, 13, 25, 9, 2, 21, 2, 0, 17, 10, 25, 6, 20, 27, 6, 7, 14, 29, 23, 25, 27, 2, 0, 23, 17, 25, 3, 15, 4, 1, 7, 17, 28, 21, 18, 11, 16, 29, 25, 15, 3, 26, 0, 22, 15, 16, 25, 20, 2, 0, 2, 0, 29, 17, 26, 1, 8, 11, 16, 22, 15, 16, 13, 25, 15, 12, 23, 26, 6, 0, 2, 8, 0, 6, 19, 12, 15, 6, 29, 13, 7, 27, 24, 2, 17, 6, 11, 10, 23, 4, 14, 14, 19, 13, 4, 0, 23, 6, 4, 16, 25, 19, 25, 26, 3, 3, 3, 20, 12, 27, 7, 13, 10, 17, 25, 25, 11, 2, 9, 24, 6, 3, 1, 3, 11, 11, 3, 19, 19, 25, 9, 20, 19, 2, 5, 15, 2, 20, 24, 2, 8, 29, 2, 25, 15, 23, 7, 25, 0, 3, 12, 15, 23, 2, 28, 2, 17, 19, 12, 20, 2, 23, 25, 17, 14, 8, 25, 3, 5, 27, 15, 26, 26, 9, 13, 25, 16, 27, 2, 11, 27, 0, 0, 29, 9, 1, 16, 17, 13, 28, 18, 2, 14, 7, 25, 20, 20, 16, 6, 18, 27, 22, 13, 23, 6, 7, 13, 27, 17, 28, 13, 21, 2, 6, 26, 21, 26, 9, 5, 20, 28, 21, 27, 19, 25, 6, 10, 27, 29, 21, 10, 6, 7, 21, 26, 0, 6, 9, 0, 29, 13, 11, 16, 16, 13, 2, 7, 1, 9, 25, 24, 3, 14, 27, 11, 1, 20, 22, 23, 1, 0, 9, 12, 23, 21, 2, 20, 0, 0, 21, 4, 12, 15, 29, 14, 15, 20, 0, 25, 6, 16, 2, 7, 10, 24, 8, 12, 14, 8, 19, 23, 16, 13, 3, 8, 2, 21, 28, 19, 8, 7, 1, 2, 7, 20, 25, 1, 16, 0, 16, 5, 8, 15, 24, 3, 17, 2, 16, 17, 22, 28, 2, 16, 7, 7, 14, 29, 23, 0, 3, 3, 27, 7, 20, 28, 22, 22, 21, 22, 25, 24, 15, 14, 12, 0, 16, 8, 26, 22, 11, 27, 23, 7, 7, 29, 2, 14, 29, 26, 3, 25, 0, 3, 11, 20, 1, 23, 13, 3, 16, 22, 12, 16, 25, 10, 3, 24, 16, 3, 17, 5, 16, 8, 0, 25, 14, 23, 28, 21, 25, 6, 17, 22, 20, 9, 21, 4, 14, 20, 7, 14, 19, 28, 1, 0, 1, 28, 8, 15, 26, 25, 16, 3, 16, 26, 25, 28, 17, 6, 8, 6, 29, 20, 3, 24, 2, 25, 13, 20, 20, 12, 4, 7, 0, 21, 15, 13, 1, 2, 1, 23, 29, 2, 15, 26, 7, 13, 7, 20, 5, 15, 6, 25, 12, 13, 14, 17, 20, 9, 8, 3, 6, 9, 3, 3, 29, 20, 21, 16, 0, 16, 24, 6, 1, 29, 27, 17, 6, 8, 28, 25, 25, 16, 7, 1, 0, 25, 20, 11, 3, 25, 11, 12, 5, 21, 8, 2, 6, 28, 2, 16, 21, 16, 15, 24, 29, 29, 27, 26, 15, 21, 29, 6, 0, 6, 9, 0, 11, 25, 15, 0, 14, 8, 23, 9, 14, 6, 23, 14, 14, 17, 7, 24, 28, 6, 25, 2, 25, 0, 19, 4, 3, 12, 22, 5, 4, 3, 2, 24, 14, 28, 21, 1, 16, 17, 25, 28, 1, 25, 27, 7, 25, 7, 2, 1, 2, 6, 8, 2, 12, 13, 16, 16, 25, 9, 1, 2, 28, 10, 27, 8, 23, 11, 16, 22, 24, 12, 24, 0, 15, 17, 27, 0, 26, 6, 28, 15, 10, 23, 2, 20, 11, 0, 7, 7, 13, 16, 0, 14, 11, 1, 5, 23, 25, 7, 6, 1, 16, 27, 12, 15, 25, 5, 1, 8, 10, 24, 25, 10, 26, 16, 25, 1, 27, 4, 28, 6, 21, 19, 16, 25, 1, 3, 17, 10, 7, 16, 29, 28, 14, 21, 25, 14, 23, 22, 14, 27, 2, 16, 0, 17, 12, 20, 21, 3, 17, 6, 12, 9, 0, 26, 22, 27, 25, 6, 26, 14, 9, 12, 8, 23, 16, 21, 25, 6, 23, 2, 21, 22, 29, 15, 27, 24, 25, 17, 21, 9, 5, 24, 6, 12, 15, 0, 4, 0, 16, 17, 20, 13, 1, 2, 12, 10, 25, 8, 4, 20, 10, 29, 25, 3, 22, 14, 26, 12, 8, 6, 17, 16, 13, 26, 16, 20, 28, 17, 16, 12, 11, 21, 9, 28, 7, 20, 2, 6, 7, 6, 8, 1, 25, 14, 6, 10, 3, 16, 21, 2, 3, 14, 17, 11, 15, 0, 10, 24, 6, 9, 28, 7, 3, 24, 14, 2, 25, 16, 6, 2, 0, 6, 25, 21, 22, 25, 17, 0, 24, 20, 7, 2, 25, 27, 24, 5, 28, 6, 6, 20, 13, 19, 20, 3, 26, 2, 22, 16, 6, 0, 19, 25, 0, 10, 20, 0, 12, 22, 19, 2, 11, 26, 8, 29, 16, 25, 25, 20, 6, 21, 17, 16, 3, 11, 8, 7, 15, 0, 2, 20, 15, 20, 18, 11, 20, 6, 4, 14, 15, 25, 16, 28, 9, 28, 8, 20, 3, 1, 14, 17, 15, 2, 4, 22, 17, 16, 1, 8, 7, 11, 14, 1, 5, 22, 12, 12, 26, 12, 18, 3, 13, 17, 11, 19, 12, 8, 4, 15, 16, 27, 17, 12, 16, 2, 1, 13, 29, 9, 0, 8, 2, 22, 24, 16, 16, 17, 24, 27, 26, 17, 27, 17, 7, 24, 25, 9, 16, 2, 6, 12, 1, 18, 16, 19, 4, 7, 25, 9, 0, 22, 25, 10, 26, 17, 3, 6, 11, 15, 29, 17, 2, 19, 25, 0, 19, 16, 5, 8]\n"
     ]
    }
   ],
   "source": [
    "print(answer)"
   ]
  },
  {
   "cell_type": "code",
   "execution_count": 83,
   "metadata": {},
   "outputs": [
    {
     "name": "stdout",
     "output_type": "stream",
     "text": [
      "Requirement already satisfied: sklearn in /usr/local/lib/python3.8/dist-packages (0.0)\n",
      "Requirement already satisfied: scikit-learn in /usr/local/lib/python3.8/dist-packages (from sklearn) (1.1.1)\n",
      "Requirement already satisfied: joblib>=1.0.0 in /usr/local/lib/python3.8/dist-packages (from scikit-learn->sklearn) (1.1.0)\n",
      "Requirement already satisfied: numpy>=1.17.3 in /usr/local/lib/python3.8/dist-packages (from scikit-learn->sklearn) (1.22.4)\n",
      "Requirement already satisfied: threadpoolctl>=2.0.0 in /usr/local/lib/python3.8/dist-packages (from scikit-learn->sklearn) (3.1.0)\n",
      "Requirement already satisfied: scipy>=1.3.2 in /usr/local/lib/python3.8/dist-packages (from scikit-learn->sklearn) (1.8.1)\n",
      "\u001b[33mWARNING: You are using pip version 20.2.4; however, version 22.2.2 is available.\n",
      "You should consider upgrading via the '/usr/bin/python3 -m pip install --upgrade pip' command.\u001b[0m\n",
      "              precision    recall  f1-score   support\n",
      "\n",
      "           0       1.00      1.00      1.00       164\n",
      "           1       0.97      1.00      0.99       117\n",
      "           2       1.00      1.00      1.00       210\n",
      "           3       1.00      1.00      1.00       146\n",
      "           4       0.71      1.00      0.83        75\n",
      "           5       0.00      0.00      0.00        41\n",
      "           6       0.93      0.92      0.93       171\n",
      "           7       1.00      1.00      1.00       126\n",
      "           8       1.00      0.96      0.98        95\n",
      "           9       1.00      1.00      1.00        93\n",
      "          10       1.00      1.00      1.00        93\n",
      "          11       0.87      1.00      0.93        88\n",
      "          12       0.89      1.00      0.94        96\n",
      "          13       1.00      1.00      1.00        99\n",
      "          14       1.00      1.00      1.00       132\n",
      "          15       0.93      1.00      0.96        96\n",
      "          16       1.00      0.88      0.93       219\n",
      "          17       1.00      0.98      0.99       133\n",
      "          18       0.00      0.00      0.00        23\n",
      "          19       0.74      1.00      0.85        88\n",
      "          20       1.00      1.00      1.00       150\n",
      "          21       1.00      1.00      1.00        90\n",
      "          22       1.00      0.97      0.98        87\n",
      "          23       0.77      1.00      0.87       108\n",
      "          24       0.95      1.00      0.97        97\n",
      "          25       1.00      0.99      0.99       218\n",
      "          26       0.84      1.00      0.92        87\n",
      "          27       1.00      1.00      1.00        95\n",
      "          28       1.00      1.00      1.00        97\n",
      "          29       1.00      0.59      0.74       109\n",
      "\n",
      "    accuracy                           0.95      3443\n",
      "   macro avg       0.89      0.91      0.89      3443\n",
      "weighted avg       0.94      0.95      0.94      3443\n",
      "\n"
     ]
    },
    {
     "name": "stderr",
     "output_type": "stream",
     "text": [
      "/usr/local/lib/python3.8/dist-packages/sklearn/metrics/_classification.py:1327: UndefinedMetricWarning: Precision and F-score are ill-defined and being set to 0.0 in labels with no predicted samples. Use `zero_division` parameter to control this behavior.\n",
      "  _warn_prf(average, modifier, msg_start, len(result))\n",
      "/usr/local/lib/python3.8/dist-packages/sklearn/metrics/_classification.py:1327: UndefinedMetricWarning: Precision and F-score are ill-defined and being set to 0.0 in labels with no predicted samples. Use `zero_division` parameter to control this behavior.\n",
      "  _warn_prf(average, modifier, msg_start, len(result))\n",
      "/usr/local/lib/python3.8/dist-packages/sklearn/metrics/_classification.py:1327: UndefinedMetricWarning: Precision and F-score are ill-defined and being set to 0.0 in labels with no predicted samples. Use `zero_division` parameter to control this behavior.\n",
      "  _warn_prf(average, modifier, msg_start, len(result))\n"
     ]
    }
   ],
   "source": [
    "!pip install sklearn\n",
    "from sklearn.metrics import classification_report\n",
    "#精度　f1_score\n",
    "print(classification_report(answer, predict))"
   ]
  },
  {
   "cell_type": "code",
   "execution_count": 84,
   "metadata": {},
   "outputs": [
    {
     "data": {
      "application/vnd.jupyter.widget-view+json": {
       "model_id": "fb3dfe8155b64e6a8800cdca95ba9a6c",
       "version_major": 2,
       "version_minor": 0
      },
      "text/plain": [
       "Testing: 0it [00:00, ?it/s]"
      ]
     },
     "metadata": {},
     "output_type": "display_data"
    },
    {
     "name": "stdout",
     "output_type": "stream",
     "text": [
      "--------------------------------------------------------------------------------\n",
      "TEST RESULTS\n",
      "{'test_acc': tensor(0.9530, device='cuda:0'),\n",
      " 'test_loss': tensor(0.9411, device='cuda:0')}\n",
      "--------------------------------------------------------------------------------\n"
     ]
    }
   ],
   "source": [
    "#テストデータの精度\n",
    "trainer.test(net)"
   ]
  },
  {
   "cell_type": "code",
   "execution_count": 91,
   "metadata": {},
   "outputs": [
    {
     "name": "stdout",
     "output_type": "stream",
     "text": [
      "{0: 0.0, 1: 0.0032092828769236803, 2: 1.8179085600422695e-05, 3: 0.04098180681467056, 4: 0.0, 5: 0.0534810833632946, 6: 7.329023838043213, 7: 0.20510604977607727, 8: 0.4751015305519104, 9: 0.0, 10: 11.973531723022461, 11: 11.843006134033203, 12: 4.555225849151611, 13: 34.157814025878906, 14: 13.381324768066406, 15: 6.277155876159668, 16: 0.2975993752479553, 17: 0.022388378158211708, 18: 13.40904426574707, 19: 1.710624019324314e-05, 20: 26.379249572753906, 21: 0.003765139728784561, 22: 2.0832064151763916, 23: 34.72874069213867, 24: 7.253326892852783, 25: 0.0, 26: 5.502551078796387, 27: 0.9951400756835938, 28: 6.586010932922363, 29: 0.3345695436000824, 30: 0.07575485110282898, 31: 0.0724492222070694, 32: 8.40418397274334e-06, 33: 1.209517002105713, 34: 2.3245770535140764e-06, 35: 0.0, 36: 20.478879928588867, 37: 2.6369431018829346, 38: 6.951870918273926, 39: 0.0, 40: 1.812919020652771, 41: 16.486560821533203, 42: 0.0, 43: 0.02208467572927475, 44: 28.016603469848633, 45: 0.0, 46: 0.0, 47: 9.615811347961426, 48: 0.22561076283454895, 49: 5.042842388153076, 50: 0.0, 51: 2.5007426738739014, 52: 0.008385401219129562, 53: 6.584362983703613, 54: 2.9206189537944738e-06, 55: 2.9074974060058594, 56: 3.3974581583606778e-06, 57: 0.0006339640240184963, 58: 10.115097045898438, 59: 0.20447981357574463, 60: 27.582170486450195, 61: 0.0, 62: 1.9682048559188843, 63: 10.508646011352539, 64: 1.2731060981750488, 65: 0.0, 66: 0.00017157233378384262, 67: 2.3841852225814364e-07, 68: 11.309362411499023, 69: 1.7671574354171753, 70: 1.072882469088654e-06, 71: 0.0, 72: 0.0, 73: 17.956764221191406, 74: 11.893582344055176}\n"
     ]
    }
   ],
   "source": [
    "print(train_loss)"
   ]
  },
  {
   "cell_type": "code",
   "execution_count": 92,
   "metadata": {},
   "outputs": [
    {
     "name": "stdout",
     "output_type": "stream",
     "text": [
      "{0: 1.830745816230774, 1: 0.6752424240112305, 2: 0.9906416535377502, 3: 0.531221330165863, 4: 1.2779045104980469, 5: 0.47531819343566895, 6: 0.46047598123550415, 7: 0.6821287274360657, 8: 0.4592181444168091, 9: 0.8305686712265015, 10: 1.1862308979034424, 11: 0.9768761992454529, 12: 0.5404120087623596, 13: 0.6518759727478027, 14: 0.3251732587814331, 15: 1.8403651714324951, 16: 0.24953947961330414, 17: 0.46228352189064026, 18: 4.1363959312438965, 19: 1.2957520484924316, 20: 2.9837348461151123, 21: 0.3580312132835388, 22: 0.9507881999015808, 23: 1.0731797218322754, 24: 0.8447695374488831, 25: 1.3264243602752686, 26: 0.4551795423030853, 27: 1.0456798076629639, 28: 1.2706754207611084, 29: 1.596423625946045, 30: 0.6241576075553894, 31: 1.3256816864013672, 32: 0.6310542821884155, 33: 0.26566383242607117, 34: 0.5929809808731079, 35: 1.2516130208969116, 36: 0.6714505553245544, 37: 0.5843513607978821, 38: 0.9632453918457031, 39: 0.6420164704322815, 40: 0.3782474100589752, 41: 0.7141537666320801, 42: 1.0937495231628418, 43: 0.2981024384498596, 44: 0.7445546388626099, 45: 0.5783941149711609, 46: 0.605534017086029, 47: 0.5999324917793274, 48: 0.8222307562828064, 49: 0.5600125193595886, 50: 0.5556577444076538, 51: 0.399358868598938, 52: 0.40904441475868225, 53: 0.6900599598884583, 54: 0.5560123920440674, 55: 0.7861936688423157, 56: 0.7278326153755188, 57: 0.4627617299556732, 58: 0.28542444109916687, 59: 0.5152055621147156, 60: 0.8743717074394226, 61: 0.847079336643219, 62: 0.9069497585296631, 63: 2.060995578765869, 64: 2.133294105529785, 65: 1.162158727645874, 66: 0.6505808234214783, 67: 0.6904558539390564, 68: 0.7310705184936523, 69: 0.363442063331604, 70: 0.49376553297042847, 71: 3.325817346572876, 72: 1.239009976387024, 73: 0.6327510476112366, 74: 0.749019205570221}\n"
     ]
    }
   ],
   "source": [
    "print(val_loss)"
   ]
  },
  {
   "cell_type": "code",
   "execution_count": 94,
   "metadata": {},
   "outputs": [
    {
     "name": "stdout",
     "output_type": "stream",
     "text": [
      "{0: 1.0, 1: 1.0, 2: 1.0, 3: 1.0, 4: 1.0, 5: 1.0, 6: 0.5, 7: 1.0, 8: 0.5, 9: 1.0, 10: 0.0, 11: 0.5, 12: 0.5, 13: 0.0, 14: 0.5, 15: 0.5, 16: 1.0, 17: 1.0, 18: 0.5, 19: 1.0, 20: 0.5, 21: 1.0, 22: 0.5, 23: 0.0, 24: 0.5, 25: 1.0, 26: 0.5, 27: 0.5, 28: 0.5, 29: 1.0, 30: 1.0, 31: 1.0, 32: 1.0, 33: 0.5, 34: 1.0, 35: 1.0, 36: 0.0, 37: 0.5, 38: 0.5, 39: 1.0, 40: 0.5, 41: 0.5, 42: 1.0, 43: 1.0, 44: 0.0, 45: 1.0, 46: 1.0, 47: 0.5, 48: 1.0, 49: 0.5, 50: 1.0, 51: 0.5, 52: 1.0, 53: 0.5, 54: 1.0, 55: 0.5, 56: 1.0, 57: 1.0, 58: 0.5, 59: 1.0, 60: 0.5, 61: 1.0, 62: 0.5, 63: 0.5, 64: 0.5, 65: 1.0, 66: 1.0, 67: 1.0, 68: 0.5, 69: 0.5, 70: 1.0, 71: 1.0, 72: 1.0, 73: 0.0, 74: 0.0}\n"
     ]
    }
   ],
   "source": [
    "print(train_acc)"
   ]
  },
  {
   "cell_type": "code",
   "execution_count": 90,
   "metadata": {},
   "outputs": [
    {
     "data": {
      "image/png": "[encoded data removed]",
      "text/plain": [
       "<Figure size 640x480 with 1 Axes>"
      ]
     },
     "metadata": {},
     "output_type": "display_data"
    }
   ],
   "source": [
    "fig, ax = plt.subplots()\n",
    "t = np.linspace(1,75,10)\n",
    "ax.set_xlabel('Epoch')\n",
    "ax.set_ylabel('loss')\n",
    "ax.grid()\n",
    "ax.plot(train_loss.keys(), train_loss.values(),color = 'red',label='train')\n",
    "ax.plot(val_loss.keys(), val_loss.values(),color = 'green',label='val')\n",
    "ax.legend(loc = 0)\n",
    "fig.tight_layout()\n",
    "plt.show()"
   ]
  },
  {
   "cell_type": "code",
   "execution_count": 93,
   "metadata": {},
   "outputs": [
    {
     "data": {
      "image/png": "[encoded data removed]",
      "text/plain": [
       "<Figure size 640x480 with 1 Axes>"
      ]
     },
     "metadata": {},
     "output_type": "display_data"
    }
   ],
   "source": [
    "fig, ax = plt.subplots()\n",
    "t = np.linspace(1,10,10)\n",
    "ax.set_xlabel('Epoch')\n",
    "ax.set_ylabel('acc')\n",
    "ax.grid()\n",
    "ax.plot(train_acc.keys(), train_acc.values(),color = 'red',label='train')\n",
    "ax.plot(val_acc.keys(), val_acc.values(),color = 'green',label='val')\n",
    "ax.legend(loc = 0)\n",
    "fig.tight_layout()\n",
    "plt.show()"
   ]
  },
  {
   "cell_type": "code",
   "execution_count": null,
   "metadata": {},
   "outputs": [],
   "source": [
    "!pip install tensorboard==1.14.0\n",
    "!pip install tb-nightly"
   ]
  },
  {
   "cell_type": "code",
   "execution_count": null,
   "metadata": {},
   "outputs": [],
   "source": [
    "%load_ext tensorboard\n",
    "%tensorboard --logdir=/content/lightning_logs"
   ]
  },
  {
   "cell_type": "code",
   "execution_count": 77,
   "metadata": {},
   "outputs": [
    {
     "name": "stdout",
     "output_type": "stream",
     "text": [
      "Known TensorBoard instances:\n",
      "  - port 6006: logdir /content/lightning_logs (started 1:07:06 ago; pid 15422)\n"
     ]
    }
   ],
   "source": [
    "# from tensorboard import notebook\n",
    "# notebook.list() # View open TensorBoard instances"
   ]
  },
  {
   "cell_type": "code",
   "execution_count": 78,
   "metadata": {},
   "outputs": [
    {
     "name": "stdout",
     "output_type": "stream",
     "text": [
      "Selecting TensorBoard with logdir /content/lightning_logs (started 1:07:17 ago; port 6006, pid 15422).\n"
     ]
    },
    {
     "data": {
      "text/html": [
       "\n",
       "      <iframe id=\"tensorboard-frame-ec62f6f7d0ab11b6\" width=\"100%\" height=\"1000\" frameborder=\"0\">\n",
       "      </iframe>\n",
       "      <script>\n",
       "        (function() {\n",
       "          const frame = document.getElementById(\"tensorboard-frame-ec62f6f7d0ab11b6\");\n",
       "          const url = new URL(\"/\", window.location);\n",
       "          const port = 6006;\n",
       "          if (port) {\n",
       "            url.port = port;\n",
       "          }\n",
       "          frame.src = url;\n",
       "        })();\n",
       "      </script>\n",
       "    "
      ],
      "text/plain": [
       "<IPython.core.display.HTML object>"
      ]
     },
     "metadata": {},
     "output_type": "display_data"
    }
   ],
   "source": [
    "# Control TensorBoard display. If no port is provided, \n",
    "# the most recently launched TensorBoard is used\n",
    "# notebook.display(port=6006, height=1000)"
   ]
  }
 ],
 "metadata": {
  "kernelspec": {
   "display_name": "Python 3",
   "language": "python",
   "name": "python3"
  },
  "language_info": {
   "codemirror_mode": {
    "name": "ipython",
    "version": 3
   },
   "file_extension": ".py",
   "mimetype": "text/x-python",
   "name": "python",
   "nbconvert_exporter": "python",
   "pygments_lexer": "ipython3",
   "version": "3.8.10"
  }
 },
 "nbformat": 4,
 "nbformat_minor": 2
}
